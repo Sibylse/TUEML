{
 "cells": [
  {
   "cell_type": "markdown",
   "id": "b9b8e62e",
   "metadata": {},
   "source": [
    "## Architecture\n",
    "## Convolutional Neural Networks (CNNs)\n",
    "\n",
    "For high-dimensional data like images, **convolutional layers** exploit local spatial structure:\n",
    "\n",
    "$$\n",
    "\\text{Conv}(\\mathbf{x}) = \\sum_{i,j} \\mathbf{K}_{i,j} \\cdot \\mathbf{x}_{i:i+k, j:j+k}\n",
    "$$\n",
    "\n",
    "CNNs use:\n",
    "\n",
    "- **Local connectivity** (kernels are small spatial patches)\n",
    "- **Weight sharing** (same kernel applied across the image)\n",
    "- **Pooling** to reduce dimensionality\n",
    "\n",
    "These principles allow CNNs to be efficient and translationally invariant.\n",
    "\n",
    "\n",
    "## Skip Connections and Deep Architectures\n",
    "\n",
    "Deeper networks can suffer from **vanishing gradients** or degraded performance. **Skip connections** (or residual connections) address this by allowing the gradient to flow more directly:\n",
    "\n",
    "$$\n",
    "\\mathbf{h}_{l+1} = \\phi(\\mathbf{W}_l \\mathbf{h}_l + \\mathbf{b}_l) + \\mathbf{h}_l\n",
    "$$\n",
    "\n",
    "This enables **ResNets** and other deep architectures to train effectively, and has become a standard design choice in modern networks."
   ]
  }
 ],
 "metadata": {
  "kernelspec": {
   "display_name": "Python 3 (ipykernel)",
   "language": "python",
   "name": "python3"
  },
  "language_info": {
   "codemirror_mode": {
    "name": "ipython",
    "version": 3
   },
   "file_extension": ".py",
   "mimetype": "text/x-python",
   "name": "python",
   "nbconvert_exporter": "python",
   "pygments_lexer": "ipython3",
   "version": "3.9.13"
  }
 },
 "nbformat": 4,
 "nbformat_minor": 5
}
