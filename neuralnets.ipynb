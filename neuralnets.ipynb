{
 "cells": [
  {
   "cell_type": "markdown",
   "id": "e935872f-be1e-4791-a90b-e5f69d7d64b2",
   "metadata": {},
   "source": [
    "# Neural Networks\n",
    "\n",
    "Recommended Literature:\n",
    "\n",
    "**Bishop. Pattern recognition and machine learning. 2006.** Sections 5.1. Feed-forward Network Functions, 5.2. Network Training,  5.3. Error Propagation and 5.5. Regularization in Neural Networks "
   ]
  },
  {
   "cell_type": "code",
   "execution_count": null,
   "id": "635f59e3-9807-4a6c-bbe4-466b78450851",
   "metadata": {},
   "outputs": [],
   "source": []
  }
 ],
 "metadata": {
  "kernelspec": {
   "display_name": "Python 3 (ipykernel)",
   "language": "python",
   "name": "python3"
  },
  "language_info": {
   "codemirror_mode": {
    "name": "ipython",
    "version": 3
   },
   "file_extension": ".py",
   "mimetype": "text/x-python",
   "name": "python",
   "nbconvert_exporter": "python",
   "pygments_lexer": "ipython3",
   "version": "3.9.7"
  }
 },
 "nbformat": 4,
 "nbformat_minor": 5
}
