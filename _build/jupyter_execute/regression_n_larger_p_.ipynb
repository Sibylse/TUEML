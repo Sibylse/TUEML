{
 "cells": [
  {
   "cell_type": "code",
   "execution_count": 1,
   "id": "d7a76eca",
   "metadata": {
    "tags": [
     "remove-cell"
    ]
   },
   "outputs": [],
   "source": [
    "import numpy as np\n",
    "import matplotlib.pyplot as plt\n",
    "import pandas\n",
    "import scipy\n",
    "import scipy.linalg as linalg\n",
    "np.set_printoptions(precision=2,suppress=True)"
   ]
  },
  {
   "cell_type": "markdown",
   "id": "bca3bc43",
   "metadata": {},
   "source": [
    "# Regression When $p>n$\n",
    "The global minimizers of the regression problem are given by\n",
    "$$\\{\\bm{\\beta}\\in\\mathbb{R}^p\\mid X^\\top X\\bm{\\beta} =X^\\top\\vvec{y} \\}.$$\n",
    "\n",
    "If the matrix $X^\\top X$ is invertible, then there is only one minimizer:\n",
    "$$\\bm{\\beta}= (X^\\top X)^{-1}X^\\top\\vvec{y} $$\n",
    "\n",
    "However, there also might be _infinitely many_ local and global minimizers of $RSS(\\bm{\\beta})$. \n",
    "\n",
    "````{prf:example} Regression with $p>n$\n",
    "We consider a toy regression task, where the data is given by following three data points (observations) of one feature.\n",
    "\n",
    "    D = np.array([5,3,1])\n",
    "    y = np.array([2,5,3])\n",
    "    pandas.DataFrame({\"F1\":D,\"y\":y})\n",
    "\n",
    "That is, our given data looks as follows:\n",
    " \n",
    " $\\mathtt{F}_1$ | $y$ \n",
    "----------------|----------------\n",
    "5 | 2 \n",
    "3 | 5 \n",
    "1 | 3 \n",
    "\n",
    "We fit a polynomial of degree $k=3$. For polynomial regression functions $f:\\mathbb{R}\\rightarrow\\mathbb{R}$ we have\n",
    "$$f(x) = \\beta_0 +\\beta_1 x+ \\beta_2x^2 + \\beta_3x^3 = \\phi(x)^\\top\\bm\\beta,$$\n",
    "where \n",
    "$$\\bm\\phi(x)^\\top=\\begin{pmatrix}1& x& x^2& x^3\\end{pmatrix}.$$\n",
    "We implement $\\phi$ and create the design matrix. Note that the following definition of $\\phi$ for polynomials is only correct if the dimensionality of the feature space is equal to one, as it is in this example.\n",
    "\n",
    "    def ϕ(x):\n",
    "        return np.row_stack((np.ones(x.shape[0]),x, x**2, x**3))\n",
    "    X=ϕ(D).T\n",
    "The design matrix gathers the transposed feature vectors of the data matrix:\n",
    "$$X = \\begin{pmatrix} \\phi^\\top(5)\\\\ \\phi^\\top(3)\\\\ \\phi^\\top(1)\\end{pmatrix} = \\begin{pmatrix} 1 & 5 & 25 & 125\\\\ 1 & 3 & 9 & 27\\\\ 1 & 1 & 1 & 1\\end{pmatrix}$$\n",
    "We have $n=3$ observations of $p=4$ features in the design matrix, and hence, $p>n$.\n",
    "\n",
    "In this case ($p>n$), the matrix $X^\\top X$ is not invertible. When you try to compute the inverse of $X^\\top X$ by hand, then you will get a contradiction. If we compute the inverse numerically with `np.linalg.inv(X.T@X)`, then you will see that the computed \"inverse\" has extremely large values (in the scope of $10^13$ to $10^14$). This corresponds to the fact that we are trying to divide by zero (in a matrix way). Generally, you can assume that such extreme values (either being very close to zero like `1e-16` or very big like `1e16`) indicates values that are actually equal to infinity or equal to zero.\n",
    "\n",
    "Anyways, we can easily check how good the computed inverse is, by multiplying the \"inverse\" with the matrix itself. The multiplication of the computed inverse and the matrix itself should return an approximate identity matrix. However, if we check `np.linalg.inv(X.T@X)@(X.T@X)`, then we see that this matrix is nowhere near the identity matrix.\n",
    "\n",
    "In turn, what mostly works is to use a numerical solver for the system of linear equations which returns the global minimizers $\\beta$ of the regression objective\n",
    "$$\\{\\beta\\in\\mathbb{R}^p\\mid X^\\top X\\beta = X^\\top y\\}.$$\n",
    "\n",
    "With `β = linalg.solve(X.T@X,X.T@y)` yields a solution for $\\beta$, but returns a warning that the result might not be accurate. We observe that this result is accurate and by checking if $X^\\top X\\beta = X^\\top y$. You can do this  by inspecting `X.T@X@β, X.T@y`, which indeed returns the same vector.   \n",
    "````"
   ]
  },
  {
   "cell_type": "markdown",
   "id": "f0f0c364",
   "metadata": {},
   "source": [
    "The example above shows that we can compute a solution for the regression problem in the case $p>n$, but how do we do that in general? Is there maybe a way to determine all the solvers $\\beta$?"
   ]
  },
  {
   "cell_type": "markdown",
   "id": "46b09bf6",
   "metadata": {},
   "source": [
    "## Characterizing the Set of Regression Solvers with SVD\n",
    "A $(n\\times n)$ matrix $A=U\\Sigma V^\\top$ is invertible if all singular values are larger than zero. The inverse is given by\n",
    "$$ A^{-1} = V \\Sigma^{-1} U^\\top,\\ \\text{ where }$$\n",
    "\\begin{align*}\n",
    "    \\Sigma=\\begin{pmatrix}\\sigma_1 & 0 & \\ldots & 0 \\\\\n",
    "    0 & \\sigma_2 &\\ldots & 0\\\\\n",
    "      &     & \\ddots &\\\\\n",
    "    0 & 0   & \\ldots & \\sigma_n\\end{pmatrix},\\qquad \n",
    "    \\Sigma^{-1}=\n",
    "    \\begin{pmatrix}\\frac{1}{\\sigma_1} & 0 & \\ldots & 0 \\\\\n",
    "    0 & \\frac{1}{\\sigma_2} &\\ldots & 0\\\\\n",
    "      &     & \\ddots &\\\\\n",
    "    0 & 0   & \\ldots & \\frac{1}{\\sigma_n}\\end{pmatrix}\n",
    "\\end{align*}"
   ]
  },
  {
   "cell_type": "markdown",
   "id": "21401f03",
   "metadata": {},
   "source": [
    "The $(p\\times p)$ matrix $X^\\top X$ is not invertible if this matrix has $r<p$ nonzero singular values. The singular values of $X^\\top X$ are specified by the SVD of $X=U\\Sigma V^\\top$, we have\n",
    "\\begin{align*}\n",
    "    X^\\top X = V\\Sigma^\\top \\underbrace{U^\\top U}_{=I} \\Sigma V^\\top = V\\Sigma^\\top \\Sigma V^\\top.\n",
    "\\end{align*}\n",
    "The singular value decomposition is uniquely defined and the decomposition $V\\Sigma^\\top \\Sigma V^\\top$ satisfies the requirements for the singular value decomposition of $X^\\top X$. Hence, the singular values of $X^\\top X$ are given by the diagonal elements of the matrix $\\Sigma^\\top \\Sigma$, which can be decomposed into an invertible part $\\Sigma_r^2$ and a non-invertible part: \n",
    "\\begin{align}\n",
    "\\Sigma^\\top \\Sigma= \n",
    "\\left(\n",
    "\\begin{array}{c:r}\n",
    "\\begin{matrix}\n",
    "\\sigma^2_1 & \\ldots & 0  \\\\\n",
    "\\vdots  & \\ddots  & \\vdots \\\\\n",
    "0 & \\ldots   & \\sigma^2_r \n",
    "\\end{matrix} & \\vvec{0} \\\\ \\hdashline\n",
    "\\vvec{0} & \\vvec{0}\n",
    "\\end{array}\n",
    "\\right) \n",
    "= \\left(\n",
    "\\begin{array}{c:r}\n",
    "\\Sigma_r^2 & \\vvec{0} \\\\ \\hdashline\n",
    "\\vvec{0} & \\vvec{0}\n",
    "\\end{array}\n",
    "\\right).\n",
    "\\label{eq:STS}\n",
    "\\end{align} Given the singular value decomposition of $X$ and $X^\\top X$, we can try to solve Eq.~\\eqref{eq:minimizers} for $\\bm\\beta$:\n",
    "\\begin{align}\n",
    "   X^\\top X\\bm{\\beta} &= X^\\top \\vvec{y} \\quad \n",
    "   \\Leftrightarrow \\quad V\\Sigma^\\top\\Sigma V^\\top \\bm{\\beta}= V\\Sigma^\\top U^\\top\\vvec{y}\n",
    "   \\quad \n",
    "   \\Leftrightarrow \\quad \\Sigma^\\top\\Sigma V^\\top \\bm{\\beta}= \\Sigma^\\top U^\\top\\vvec{y}, \\label{eq:beta1}\n",
    "\\end{align}\n",
    "where the last equality follows from multiplying with $V^\\top$ from the left."
   ]
  },
  {
   "cell_type": "markdown",
   "id": "7c3fcbcb",
   "metadata": {},
   "source": [
    "````{prf:observation} Characterization of Regression solvers by SVD\n",
    "The global minimizers $\\bm{\\beta}$ to the linear regression problem with design matrix $X$, having the SVD $X=U\\Sigma V^\\top$, are given by\n",
    "$$\\{\\bm{\\beta}\\in\\mathbb{R}^p\\mid \\Sigma^\\top\\Sigma V^\\top \\bm{\\beta}= \\Sigma^\\top U^\\top\\vvec{y} \\}.$$\n",
    "````\n",
    "From this characterization of regression solvers follows that $\\Sigma^\\top\\Sigma$ does **not** have an inverse if only $r<p$ singular values are nonzero. This is definitely the case if $n<p$, since we have at most $\\min\\{n,p\\}$ nonzero singular values of a $n\\times p$ matrix. "
   ]
  },
  {
   "cell_type": "code",
   "execution_count": 2,
   "id": "a19dde70",
   "metadata": {},
   "outputs": [
    {
     "name": "stdout",
     "output_type": "stream",
     "text": [
      "(3, 3) (3,) (4, 4)\n"
     ]
    }
   ],
   "source": [
    "D = np.array([5,3,1])\n",
    "y = np.array([2,5,3])\n",
    "def ϕ(x):\n",
    "    return np.row_stack((np.ones(x.shape[0]),x, x**2, x**3))\n",
    "X=ϕ(D).T\n",
    "U,σs,Vt = linalg.svd(X, full_matrices=True)\n",
    "print(U.shape, σs.shape, Vt.shape)\n",
    "V=Vt.T"
   ]
  },
  {
   "cell_type": "markdown",
   "id": "e1d42f32",
   "metadata": {},
   "source": [
    "When we look at the singular values, then we have $r=3<4=p$."
   ]
  },
  {
   "cell_type": "code",
   "execution_count": 3,
   "id": "c1ffe21f",
   "metadata": {},
   "outputs": [
    {
     "data": {
      "text/plain": [
       "array([130.7 ,   4.2 ,   0.84])"
      ]
     },
     "execution_count": 3,
     "metadata": {},
     "output_type": "execute_result"
    }
   ],
   "source": [
    "σs"
   ]
  },
  {
   "cell_type": "markdown",
   "id": "9a0e0f88",
   "metadata": {},
   "source": [
    "Correspondingly, the matrix $\\Sigma^\\top\\Sigma$ (computed below) has not an inverse."
   ]
  },
  {
   "cell_type": "code",
   "execution_count": 4,
   "id": "3f6a257c",
   "metadata": {},
   "outputs": [
    {
     "data": {
      "text/plain": [
       "array([[130.7 ,   0.  ,   0.  ,   0.  ],\n",
       "       [  0.  ,   4.2 ,   0.  ,   0.  ],\n",
       "       [  0.  ,   0.  ,   0.84,   0.  ]])"
      ]
     },
     "execution_count": 4,
     "metadata": {},
     "output_type": "execute_result"
    }
   ],
   "source": [
    "Σ = np.column_stack((np.diag(σs),np.zeros(3)))\n",
    "Σ"
   ]
  },
  {
   "cell_type": "code",
   "execution_count": 5,
   "id": "e3ba1984",
   "metadata": {},
   "outputs": [
    {
     "data": {
      "text/plain": [
       "array([[17081.66,     0.  ,     0.  ,     0.  ],\n",
       "       [    0.  ,    17.63,     0.  ,     0.  ],\n",
       "       [    0.  ,     0.  ,     0.71,     0.  ],\n",
       "       [    0.  ,     0.  ,     0.  ,     0.  ]])"
      ]
     },
     "execution_count": 5,
     "metadata": {},
     "output_type": "execute_result"
    }
   ],
   "source": [
    "Σ.T@Σ"
   ]
  },
  {
   "cell_type": "markdown",
   "id": "97202099",
   "metadata": {},
   "source": [
    "How is that reflected in the system of linear equations that we have to solve?"
   ]
  },
  {
   "cell_type": "code",
   "execution_count": 6,
   "id": "dbce69fe",
   "metadata": {
    "tags": [
     "remove-cell"
    ]
   },
   "outputs": [
    {
     "name": "stdout",
     "output_type": "stream",
     "text": [
      "[[  157.18   724.22  3445.93 16714.05]\n",
      " [   -4.36    -8.61   -14.36     3.38]\n",
      " [    0.58     0.25    -0.32     0.05]\n",
      " [    0.       0.       0.       0.  ]] β= [415.45 -21.56   1.04   0.  ]\n"
     ]
    }
   ],
   "source": [
    "print(Σ.T@Σ@V.T,\"β=\",Σ.T@U@y)"
   ]
  },
  {
   "cell_type": "markdown",
   "id": "c103fdf4",
   "metadata": {},
   "source": [
    "\\begin{align*}\n",
    "\\Sigma^\\top \\Sigma V^\\top \\beta &= \\Sigma^\\top U \\vvec{y}\\\\ \\\\\n",
    "\\begin{pmatrix}\n",
    " 157.18 &   724.22 &  3445.93 & 16714.05\\\\\n",
    " -4.36  &  -8.61  & -14.36   &  3.38\\\\\n",
    " 0.58   & 0.25   & -0.32    & 0.05\\\\\n",
    " 0      & 0      & 0        & 0\n",
    "\\end{pmatrix}\n",
    "\\beta &= \n",
    "\\begin{pmatrix}\n",
    "415.45 \\\\ -21.56 \\\\ 1.04 \\\\   0\n",
    "\\end{pmatrix}\n",
    "\\end{align*}"
   ]
  },
  {
   "cell_type": "markdown",
   "id": "605762e4",
   "metadata": {},
   "source": [
    "We have an underdetermined system. There are only 3 equations to determine 4 parameters of $\\beta$. If you are going to solve this system by hand, then you will see that one parameter is always left over (it can't be determined by the given equations). Setting this parameter to any number yields then one of the infinite solutions to the regression problem. For example, we can set $\\beta_4=2$.  "
   ]
  },
  {
   "cell_type": "markdown",
   "id": "d98ab85e",
   "metadata": {},
   "source": [
    "## The Pseudo-Inverse"
   ]
  },
  {
   "cell_type": "markdown",
   "id": "587486cd",
   "metadata": {},
   "source": [
    "If only $r<p$ singular values are nonzero, we employ the pseudoinverse $(\\Sigma^\\top\\Sigma)^+$ defined by\n",
    "\\begin{align*}\n",
    "\\Sigma^\\top \\Sigma= \n",
    "\\left(\n",
    "\\begin{array}{c:r}\n",
    "\\begin{matrix}\n",
    "\\sigma^2_1 & \\ldots & 0  \\\\\n",
    "\\vdots  & \\ddots  & \\vdots \\\\\n",
    "0 & \\ldots   & \\sigma^2_r \n",
    "\\end{matrix} & \\vvec{0} \\\\ \\hdashline\n",
    "\\vvec{0} & \\vvec{0}\n",
    "\\end{array}\n",
    "\\right)\n",
    ",\\quad \n",
    "(\\Sigma^\\top \\Sigma)^+=\n",
    "\\left(\n",
    "\\begin{array}{c:r}\n",
    "\\begin{matrix}\n",
    "\\frac{1}{\\sigma^2_1} & \\ldots & 0  \\\\\n",
    "\\vdots  & \\ddots  & \\vdots \\\\\n",
    "0 & \\ldots   & \\frac{1}{\\sigma^2_r} \n",
    "\\end{matrix} & \\vvec{0} \\\\ \\hdashline\n",
    "\\vvec{0} & \\vvec{0}\n",
    "\\end{array}\n",
    "\\right)\n",
    "\\end{align*}\n",
    "\n",
    "If we have $r<p$ nonzero singular values, then we have infinitely many global optimizers \n",
    "$$\\bm\\beta = VA\\Sigma^\\top U^\\top\\vvec{y}$$\n",
    "where \n",
    "\\begin{align*}\n",
    "A = \\left(\n",
    "\\begin{array}{c:c}\n",
    "\\begin{matrix}\n",
    "\\frac{1}{\\sigma^2_1} & \\ldots & 0  \\\\\n",
    "\\vdots  & \\ddots  & \\vdots \\\\\n",
    "0 & \\ldots   & \\frac{1}{\\sigma^2_r} \n",
    "\\end{matrix} & \\vvec{0} \\\\ \\hdashline\n",
    "A_{r+1, 1}\\ldots &  A_{r+1,p}\\\\\n",
    "\\vdots &  \\vdots\\\\\n",
    "A_{p,\\ 1}\\ldots &  A_{p,p}\n",
    "\\end{array}\n",
    "\\right)\\in\\mathbb{R}^{p\\times p}\n",
    "\\end{align*}\n",
    "\n",
    "\n",
    "We define the **regression solution** derived by the pseudo inverse as\n",
    "$$\\bm\\beta_+ = V(\\Sigma^\\top \\Sigma)^+\\Sigma^\\top U^\\top\\vvec{y}$$\n",
    "where \n",
    "\\begin{align*}\n",
    "(\\Sigma^\\top \\Sigma)^+=\n",
    "\\left(\n",
    "\\begin{array}{c:r}\n",
    "\\begin{matrix}\n",
    "\\frac{1}{\\sigma^2_1} & \\ldots & 0  \\\\\n",
    "\\vdots  & \\ddots  & \\vdots \\\\\n",
    "0 & \\ldots   & \\frac{1}{\\sigma^2_r} \n",
    "\\end{matrix} & \\vvec{0} \\\\ \\hdashline\n",
    "\\vvec{0} & \\vvec{0}\n",
    "\\end{array}\n",
    "\\right)\\in\\mathbb{R}^{p\\times p}\n",
    "\\end{align*}"
   ]
  },
  {
   "cell_type": "markdown",
   "id": "c6c9c7e3",
   "metadata": {},
   "source": [
    "We can now calculate a $\\beta$ in the set of global minimizers. If ```random=True``` then a random matrix replaces the zero rows in the pseudo inverse of $\\Sigma^\\top\\Sigma$."
   ]
  },
  {
   "cell_type": "code",
   "execution_count": 7,
   "id": "251eae87",
   "metadata": {},
   "outputs": [],
   "source": [
    "def get_beta(U,Σ,V,random =True):\n",
    "    p=V.shape[1]\n",
    "    ΣtΣ_p = Σ.T@Σ\n",
    "    ΣtΣ_p[ΣtΣ_p>0] = 1/ΣtΣ_p[ΣtΣ_p>0]\n",
    "    A=ΣtΣ_p\n",
    "    if random:\n",
    "        r=(Σ>0).sum() # the number of nonzero singular values\n",
    "        A[r:p,:]=np.random.rand(p-r,p)\n",
    "    return V@A@Σ.T@U.T@y"
   ]
  },
  {
   "cell_type": "markdown",
   "id": "f2251e09",
   "metadata": {},
   "source": [
    "Plot it! The function resulting from setting ```random=False``` is the one in blue."
   ]
  },
  {
   "cell_type": "code",
   "execution_count": 8,
   "id": "1ac20d4f",
   "metadata": {},
   "outputs": [
    {
     "data": {
      "image/png": "[encoded data removed]",
      "text/plain": [
       "<Figure size 720x504 with 1 Axes>"
      ]
     },
     "metadata": {
      "filenames": {
       "image/png": "/Users/shess/dmml/_build/jupyter_execute/regression_n_larger_p__21_0.png"
      },
      "needs_background": "light"
     },
     "output_type": "display_data"
    }
   ],
   "source": [
    "plt.figure(figsize=(10, 7))\n",
    "x = np.linspace(0, 6, 100)\n",
    "β = get_beta(U,Σ,V,random = False)\n",
    "f_x = ϕ(x).T@β\n",
    "plt.plot(x, f_x, label=\"f_0\")\n",
    "for i in range(1,5):\n",
    "    β = get_beta(U,Σ,V)\n",
    "    f_x = ϕ(x).T@β\n",
    "    plt.plot(x, f_x, label=\"f_\"+str(i))\n",
    "plt.scatter(D, y, edgecolor='b', s=50)\n",
    "plt.xlabel(\"x\")\n",
    "plt.ylabel(\"y\")\n",
    "plt.ylim((-5, 15))\n",
    "plt.legend(loc=\"best\")\n",
    "plt.show()"
   ]
  },
  {
   "cell_type": "code",
   "execution_count": null,
   "id": "6803d079",
   "metadata": {},
   "outputs": [],
   "source": []
  }
 ],
 "metadata": {
  "kernelspec": {
   "display_name": "Python 3 (ipykernel)",
   "language": "python",
   "name": "python3"
  },
  "language_info": {
   "codemirror_mode": {
    "name": "ipython",
    "version": 3
   },
   "file_extension": ".py",
   "mimetype": "text/x-python",
   "name": "python",
   "nbconvert_exporter": "python",
   "pygments_lexer": "ipython3",
   "version": "3.9.13"
  }
 },
 "nbformat": 4,
 "nbformat_minor": 5
}