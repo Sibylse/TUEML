{
 "cells": [
  {
   "cell_type": "code",
   "execution_count": 1,
   "id": "37373722",
   "metadata": {
    "tags": [
     "remove-cell"
    ]
   },
   "outputs": [],
   "source": [
    "import scipy.linalg as linalg\n",
    "import numpy as np\n",
    "np.set_printoptions(precision=1)"
   ]
  },
  {
   "cell_type": "markdown",
   "id": "9ddf0b5d",
   "metadata": {},
   "source": [
    "## Normed Vector Spaces\n",
    "````{prf:definition}\n",
    "A normed vector space is a vector space $\\mathcal{V}$ with a\n",
    "function $\\lVert\\cdot\\rVert:\\mathcal{V}\\rightarrow \\mathbb{R}_+$, called \\alert{norm}, satisfying the following properties for all $\\vvec{v},\\vvec{w}\\in\\mathcal{V}$ and $\\alpha\\in\\mathbb{R}$:\n",
    "\\begin{align*}\n",
    "    \\lVert \\vvec{v}+\\vvec{w}\\rVert &\\leq\\lVert\\vvec{v}\\rVert +\\lVert\\vvec{w}\\rVert &\\text{(triangle inequality)}\\\\\n",
    "    \\lVert \\alpha\\vvec{v}\\rVert &=\\lvert\\alpha\\rvert\\lVert\\vvec{v}\\rVert &\\text{(homogeneity)}\\\\\n",
    "    \\lVert\\vvec{v}\\rVert =0&\\Leftrightarrow \\vvec{v}=\\vvec{0}\n",
    "\\end{align*}\n",
    "````\n",
    "The norm measures the length of vectors.\n",
    "````{prf:example}\n",
    "The $d$-dimensional Euclidean space is the space of $\\mathbb{R}^d$ with the \\alert{Euclidean norm}:\n",
    "$$\\lVert \\vvec{v}\\lVert_2 = \\lVert \\vvec{v}\\rVert =\\sqrt{\\sum_{i=1}^d v_i^2}$$\n",
    "```{tikz}\n",
    "\\begin{tikzpicture}\n",
    "\\begin{axis}[\n",
    "    \twidth=.5\\textwidth,\n",
    "    \txmin=-0.5, xmax=2.5, % set the min and max values of the x-axis\n",
    "    \taxis lines=center, %set the position of the axes\n",
    "    \tymin=-0.5, ymax=2.5,\n",
    "    \txlabel=$x_1$, % label x axis\n",
    "        ylabel=$x_2$, % label y axis\n",
    "        %xtick=\\empty, ytick=\\empty,\n",
    "        scale only axis=true,\n",
    "]\n",
    "\\draw [-, ultra thick,  blue] (axis cs:0,0) -- (axis cs:1.5,0) node[below]{$v_1$};\n",
    "\\draw [-, ultra thick,  blue] (axis cs:1.5,0) -- (axis cs:1.5,2) node[right]{$v_2$};\n",
    "\\draw [->, ultra thick,  magenta] (axis cs:0,0) -- (axis cs:1.5,2) node[left]{$\\mathbf{v}$};\n",
    "\n",
    "\n",
    "\\end{axis}\n",
    "\\end{tikzpicture}\n",
    "```\n",
    "The Euclidean norm computes the length of a vector by means of the Pythagorean theorem:\n",
    "$$\\lVert \\vvec{v}\\rVert^2 = v_1^2 + v_2^2$$\n",
    "````\n",
    "\n",
    "The inner product is defined by the \\alert{lengths} of the vectors and the cosine of the \\alert{angle} between them.\n",
    "\\begin{align*}\n",
    "    \\vvec{v}^\\top\\vvec{w} &= \\sum_{i=1}^dv_iw_i\\\\\n",
    "    &= \\cos\\sphericalangle(\\vvec{v},\\vvec{w})\\lVert\\vvec{v}\\rVert\\lVert\\vvec{w}\\rVert\n",
    "\\end{align*}\n",
    "```{tikz}\n",
    "\\pgfplotsset{compat=newest}\n",
    "\\begin{tikzpicture}[dot/.style={circle,inner sep=1pt,fill,label={#1},name=#1},\n",
    "  extended line/.style={shorten >=-#1,shorten <=-#1},\n",
    "  extended line/.default=1cm]\n",
    " \\draw[-stealth] (-0.5,0) -- (4,0);\n",
    " \\draw[-stealth] (0,-0.5) -- (0,3.5);\n",
    " \\coordinate (O) at (0,0);\n",
    " \\coordinate (Y) at (3,1);\n",
    " \\coordinate (X) at (1, 3);\n",
    " \\draw [-stealth,ultra thick,blue] (O) -- (Y) node[above,blue]{$\\mathbf{w}$};     \n",
    " \\draw [ -stealth,ultra thick,magenta] (O) -- (X) node[above,magenta]{$\\mathbf{v}$}; \n",
    " \\pic [draw, -,angle radius=12mm, angle eccentricity=.8] {angle = Y--O--X};\n",
    " \\node at (0.5,0.5) {$\\phi$};\n",
    "\\end{tikzpicture}\n",
    "```\n",
    "If two vectors are **orthogonal**, then $\\cos\\sphericalangle(\\vvec{v},\\vvec{w})=0$ and the inner product is zero\n",
    "\\begin{align*}\n",
    "\\vvec{v}^\\top\\vvec{w}\n",
    "&= \\cos\\sphericalangle(\\vvec{v},\\vvec{w})\\lVert\\vvec{v}\\rVert\\lVert\\vvec{w}\\rVert =0\n",
    "\\end{align*}\n",
    "     \n",
    "Two vectors are called **orthonormal** if they are orthogonal and have unit norm $\\lVert \\vvec{v}\\rVert = \\lVert\\vvec{w}\\rVert =1$.\n",
    "```{tikz}\n",
    "\\begin{tikzpicture}[dot/.style={circle,inner sep=1pt,fill,label={#1},name=#1},\n",
    "  extended line/.style={shorten >=-#1,shorten <=-#1},\n",
    "  extended line/.default=1cm]\n",
    " \\draw[-stealth] (-0.5,0) -- (4,0);\n",
    " \\draw[-stealth] (0,-0.5) -- (0,3.5);\n",
    " \\coordinate (O) at (0,0);\n",
    " \\coordinate (Y) at (3,-1);\n",
    " \\coordinate (X) at (1, 3);\n",
    " %\\coordinate (XN) at (2*0.4,4*0.4);\n",
    " \\draw [-stealth,ultra thick,blue] (O) -- (Y) node[above,blue]{$\\mathbf{w}$};     \n",
    " \\draw [ -stealth,ultra thick,magenta] (O) -- (X) node[above,magenta]{$\\mathbf{v}$}; \n",
    "\\pic [draw, -, angle radius=12mm, angle eccentricity=.8] {angle = Y--O--X};\n",
    "\\node at (0.6,0.3) {$\\frac{\\pi}{2}$};\n",
    "\\end{tikzpicture}\n",
    "```\n",
    "The inner product of a vector $\\vvec{v}$ and a normalized vector $\\frac{\\vvec{w}}{\\lVert\\vvec{w}\\rVert}$ computes the length of the **projection** $\\vvec{p_v}$ of $\\vvec{v}$ onto $\\vvec{w}$:\n",
    "\\begin{align*}\n",
    "\\cos(\\phi)&= \\frac{\\lVert\\vvec{p}_v\\rVert}{\\lVert \\vvec{v}\\rVert}\\\\ \n",
    "\\Leftrightarrow\n",
    "\\lVert \\vvec{p}_v\\rVert &=\\cos(\\phi)\\lVert \\vvec{v}\\rVert =\\vvec{v}^\\top \\frac{\\vvec{w}}{\\lVert \\vvec{w}\\rVert}\\\\\n",
    "\\Rightarrow \\vvec{p}_v &=\n",
    "\\frac{\\vvec{w}\\vvec{w}^\\top}{\\lVert \\vvec{w}\\rVert^2} \\vvec{v}\n",
    "\\end{align*}\n",
    "```{tikz}\n",
    "\\begin{tikzpicture}[dot/.style={circle,inner sep=1pt,fill,label={#1},name=#1},\n",
    "  extended line/.style={shorten >=-#1,shorten <=-#1},\n",
    "  extended line/.default=1cm]\n",
    " \\draw[-stealth] (-0.5,0) -- (4,0);\n",
    " \\draw[-stealth] (0,-0.5) -- (0,3.5);\n",
    " \\coordinate (O) at (0,0);\n",
    " \\coordinate (Y) at (3,1);\n",
    " \\coordinate (X) at (1, 3);\n",
    " %\\coordinate (XN) at (2*0.4,4*0.4);\n",
    " \\draw [-stealth,ultra thick,blue] (O) -- (Y) node[above,blue]{$\\mathbf{w}$};     \n",
    " \\draw [ -stealth,ultra thick,magenta] (O) -- (X) node[above,magenta]{$\\mathbf{v}$}; \n",
    " %\\draw [ -stealth,ultra thick,green] (O) -- (XN) node[above left,green]{$\\frac{\\mathbf{x}}{\\lVert\\mathbf{x}\\rVert}$}; \n",
    " \\draw[dashed] (X) --  node[midway,above left]{} ($(O)!(X)!(Y)$) coordinate (PX) node[below left]{};\n",
    " \\draw[ultra thick, green,-stealth] (O) -- (PX) node[below right,green]{$\\mathbf{p}_v$}  ;\n",
    " %\\draw[thick,decorate,decoration={brace,raise=10pt,mirror}] (O) -- (PX) node[midway, below right=2pt]{$c=\\cos(\\phi)\\lVert\\vvec{x}\\rVert$};\n",
    "\\pic [draw, -,angle radius=12mm, angle eccentricity=.8] {angle = Y--O--X};\n",
    " \\node at (0.5,0.5) {$\\phi$};\n",
    "\\end{tikzpicture}\n",
    "```\n",
    "````{prf:example} Manhattan norm\n",
    "The Manhattan norm is defined as:\n",
    "$$\\lVert \\vvec{v}\\lVert_1 = \\lvert \\vvec{v}\\rvert =\\sum_{i=1}^d \\lvert v_i\\rvert$$\n",
    "The Manhattan norm computes the length of a vector coordinate-wise:\n",
    "$$\\lvert \\vvec{v}\\rvert = \\lvert v_1\\rvert + \\lvert v_2\\rvert$$\n",
    "```{tikz}\n",
    "\\begin{tikzpicture}\n",
    "\\begin{axis}[\n",
    "    \twidth=.5\\textwidth,\n",
    "    \txmin=-0.5, xmax=2.5, % set the min and max values of the x-axis\n",
    "    \taxis lines=center, %set the position of the axes\n",
    "    \tymin=-0.5, ymax=2.5,\n",
    "    \txlabel=$x_1$, % label x axis\n",
    "        ylabel=$x_2$, % label y axis\n",
    "        %xtick=\\empty, ytick=\\empty,\n",
    "        scale only axis=true,\n",
    "]\n",
    "\\draw [-, ultra thick,  blue] (axis cs:0,0) -- (axis cs:1.5,0) node[below]{$v_1$};\n",
    "\\draw [-, ultra thick,  blue] (axis cs:1.5,0) -- (axis cs:1.5,2) node[right]{$v_2$};\n",
    "\\draw [->, ultra thick,  magenta] (axis cs:0,0) -- (axis cs:1.5,2) node[left]{$\\mathbf{v}$};\n",
    "\n",
    "\n",
    "\\end{axis}\n",
    "\\end{tikzpicture}\n",
    "```\n",
    "````\n",
    "````{prf:example} $L_p$-norms\n",
    "For $p\\in[1,\\infty]$, the function $\\lVert\\cdot\\rVert_p$ is a norm, where\n",
    "\\begin{align*}\n",
    "    \\lVert \\vvec{v}\\lVert_p & =\\left(\\sum_{i=1}^d \\lvert v_i\\rvert^p\\right)^{1/p}\n",
    "\\end{align*}\n",
    "\n",
    "The two-dimensional circles $\\{\\vvec{v}\\in\\mathbb{R}^2\\vert \\lVert\\vvec{v}\\rVert_p =1\\}$ look as follows:\n",
    "```{tikz}\n",
    "% Unit circle plot style\n",
    "\\pgfplotsset{unit circle/.style={width=5cm,height=5cm,axis lines=middle,xtick=\\empty,ytick=\\empty,axis equal,enlargelimits,xmax=1,ymax=1,xmin=-1,ymin=-1,domain=0:pi/2}}\n",
    "\n",
    "\\begin{tikzpicture}\n",
    "\\coordinate (prev); % Store previous plot position\n",
    "\\foreach \\p / \\t in {2/1, 1/2, 0.0001/\\infty} { % Loop through the plots to draw\n",
    "    % \\p is the exponent in the function to plot\n",
    "    % \\t is the p parameter to print\n",
    "    \\begin{axis}[at={(prev)},unit circle,anchor=west]\n",
    "        \\foreach \\ss in {1,-1} {\n",
    "        \\foreach \\cs in {1,-1} {\n",
    "            \\addplot[blue] ({\\cs*(cos(deg(x)))^\\p},{\\ss*(sin(deg(x))^\\p});\n",
    "        }\n",
    "        }\n",
    "    \\end{axis}\n",
    "    \\node[below=0.5cm, anchor=base] at (current axis.south) {$p=\\t$}; % Print p\n",
    "    \\coordinate[right=0.5cm] (prev) at (current axis.east) ; % Set position for next plot\n",
    "}\n",
    "\\end{tikzpicture}\n",
    "```\n",
    "````\n",
    "So, the norm measures the length of a vector. Can we also measure the length of a matrix?\n",
    "\n",
    "Yes, matrix norms are the same but different.\n",
    "\n",
    "````{prf:example} Matrix norms\n",
    "We can extend the $L_p$ vector normes to the \\alert{element-wise $L_p$ matrix norms}:\n",
    "\\begin{align*}\n",
    "    \\lVert A\\lVert_p & =\\left(\\sum_{i=1}^n\\sum_{j=1}^m \\lvert A_{ji}\\rvert^p\\right)^{1/p}\n",
    "\\end{align*}\n",
    "Furthermore, we introduce the **operator norm**\n",
    "\\begin{align*}\n",
    "    \\lVert A\\rVert_{op} &=\\max_{\\lVert \\vvec{v}\\rVert=1} \\lVert Av\\rVert \n",
    "\\end{align*}\n",
    "````\n",
    "A matrix $A$ with orthogonal columns satisfies \n",
    "\\begin{align*}\n",
    "    A^\\top A = \\diag(\\lVert A_{\\cdot 1}\\rVert^2, \\ldots, \\lVert A_{\\cdot d}\\rVert^2)\n",
    "\\end{align*}\n",
    "A matrix $A$ with orthonormal columns satisfies \n",
    "\\begin{align*}\n",
    "    A^\\top A = \\diag(1, \\ldots, 1)\n",
    "\\end{align*}\n",
    "A square matrix $A\\in \\mathbb{R}^{n\\times n}$ is called **orthogonal** if\n",
    "$$A^\\top A = AA^\\top=I$$\n",
    "A vector norm $\\lVert\\cdot \\rVert$ is called **orthogonal invariant** if for all $\\vvec{v}\\in\\mathbb{R}^n$ and orthogonal matrices $X\\in\\mathbb{R}^{n\\times n}$ we have\n",
    "$$\\lVert X\\vvec{v}\\rVert = \\lVert \\vvec{v}\\rVert$$\n",
    "A matrix norm $\\lVert\\cdot \\rVert$ is called **orthogonal invariant** if for all $V\\in\\mathbb{R}^{n\\times d}$ and orthogonal matrices $X\\in\\mathbb{R}^{n\\times n}$ we have\n",
    "$$\\lVert XV\\rVert = \\lVert V\\rVert$$"
   ]
  },
  {
   "cell_type": "markdown",
   "id": "83afcfbb",
   "metadata": {},
   "source": [
    "````{prf:definition} Trace\n",
    "The **trace** sums the elements on the diagonal of a matrix.\n",
    "Let $A\\in\\mathbb{R}^{n\\times n}$, then\n",
    "$$\\tr(A) = \\sum_{i=1}^n A_{ii}$$\n",
    "    \n",
    "1. $\\tr(cA+B)=c\\tr(A)+\\tr(B)$ (linearity)\n",
    "2. $\\tr(A^\\top)=\\tr(A)$\n",
    "3. $\\tr(ABCD)=\\tr(BCDA)=\\tr(CDAB)=tr(DABC)$ (cycling property)\n",
    "````\n",
    "For any vector $\\vvec{v}\\in\\mathbb{R}^d$ and matrix $A\\in\\mathbb{R}^{n\\times d}$, we have \n",
    "\\begin{align*}\n",
    "    \\lVert\\mathbf{v}\\rVert^2 &=  \\mathbf{v}^\\top \\mathbf{v} = \\tr(\\mathbf{v}^\\top \\mathbf{v})\n",
    "    &\\lVert A\\rVert^2 &=  \\tr(A^\\top A)\n",
    "\\end{align*}\n",
    "From this property derive the **binomial formulas** of vectors and matrices:\n",
    "\\begin{align*}\n",
    "    \\lVert \\vvec{x}-\\vvec{y}\\rVert^2 &= ( \\vvec{x}-\\vvec{y})^\\top(\\vvec{x}-\\vvec{y}) = \\lVert\\vvec{x}\\rVert^2 -2\\langle\\vvec{x},\\vvec{y}\\rangle +\\lVert\\vvec{y}\\rVert^2\\\\\n",
    "    \\lVert X-Y\\rVert^2 &= \\tr( (X-Y)^\\top(X-Y)) = \\lVert X\\rVert^2 -2\\langle X, Y\\rangle +\\lVert Y\\rVert^2\n",
    "\\end{align*}\n",
    "\n",
    "````{prf:theorem}SVD\n",
    "For every matrix $X\\in\\mathbb{R}^{n\\times p}$ there exist orthogonal matrices $U\\in\\mathbb{R}^{n\\times n}, V\\in\\mathbb{R}^{p\\times p}$ and $\\Sigma  \\in\\mathbb{R}^{n\\times p}$ such that\n",
    "$$X= U\\Sigma V^\\top, \\text{ where}$$\n",
    "* $U^\\top U= UU^\\top=I_n, V^\\top V=VV^\\top= I_p$\n",
    "* $\\Sigma$ is a rectangular diagonal matrix, $\\Sigma_{11}\\geq\\ldots\\geq \\Sigma_{kk}$ where $k=\\min\\{n,p\\}$\n",
    "````\n",
    "The column vectors $U_{\\cdot s}$ and $V_{\\cdot s}$ are called **left** and **right singular vectors** and the values $\\sigma_i=\\Sigma_{ii}$ are called **singular values** $(1\\leq i\\leq l)$. "
   ]
  },
  {
   "cell_type": "code",
   "execution_count": 2,
   "id": "d2f9f5b2",
   "metadata": {},
   "outputs": [
    {
     "name": "stdout",
     "output_type": "stream",
     "text": [
      "(4, 4) (2,) (2, 2)\n"
     ]
    }
   ],
   "source": [
    "A = np.random.rand(4,2)\n",
    "U, σs,Vt = linalg.svd(A)\n",
    "print(U.shape, σs.shape, Vt.shape)"
   ]
  },
  {
   "cell_type": "code",
   "execution_count": 3,
   "id": "c648f701",
   "metadata": {},
   "outputs": [
    {
     "data": {
      "text/plain": [
       "array([[-0.6,  0.4, -0.1, -0.7],\n",
       "       [-0.3, -0.9, -0. , -0.3],\n",
       "       [-0.1,  0. ,  1. , -0. ],\n",
       "       [-0.8,  0.1, -0.1,  0.6]])"
      ]
     },
     "execution_count": 3,
     "metadata": {},
     "output_type": "execute_result"
    }
   ],
   "source": [
    "U"
   ]
  },
  {
   "cell_type": "code",
   "execution_count": 4,
   "id": "26f155af",
   "metadata": {},
   "outputs": [
    {
     "data": {
      "text/plain": [
       "array([[ 1.0e+00,  6.4e-17,  2.3e-17, -2.1e-17],\n",
       "       [ 6.4e-17,  1.0e+00,  1.5e-17, -4.8e-18],\n",
       "       [ 2.3e-17,  1.5e-17,  1.0e+00,  8.0e-18],\n",
       "       [-2.1e-17, -4.8e-18,  8.0e-18,  1.0e+00]])"
      ]
     },
     "execution_count": 4,
     "metadata": {},
     "output_type": "execute_result"
    }
   ],
   "source": [
    "U@U.T"
   ]
  },
  {
   "cell_type": "code",
   "execution_count": 5,
   "id": "2e1b9d3e",
   "metadata": {},
   "outputs": [
    {
     "data": {
      "text/plain": [
       "array([[1.5, 0. ],\n",
       "       [0. , 0.4]])"
      ]
     },
     "execution_count": 5,
     "metadata": {},
     "output_type": "execute_result"
    }
   ],
   "source": [
    "np.diag(σs)"
   ]
  },
  {
   "cell_type": "code",
   "execution_count": 6,
   "id": "cb55c0cf",
   "metadata": {},
   "outputs": [
    {
     "data": {
      "text/plain": [
       "array([[1.5, 0. ],\n",
       "       [0. , 0.4],\n",
       "       [0. , 0. ],\n",
       "       [0. , 0. ]])"
      ]
     },
     "execution_count": 6,
     "metadata": {},
     "output_type": "execute_result"
    }
   ],
   "source": [
    "Σ = np.row_stack( (np.diag(σs),np.zeros((2,2))) )\n",
    "Σ"
   ]
  },
  {
   "cell_type": "markdown",
   "id": "df621a69",
   "metadata": {},
   "source": [
    "A $(n\\times n)$ matrix $A=U\\Sigma V^\\top$ is invertible if all singular values are larger than zero. The inverse is given by\n",
    "$$A^{-1} = V \\Sigma^{-1} U^\\top,\\ \\text{ where }$$\n",
    "\\begin{align*}\n",
    "    \\Sigma=\\begin{pmatrix}\\sigma_1 & 0 & \\ldots & 0 \\\\\n",
    "    0 & \\sigma_2 &\\ldots & 0\\\\\n",
    "      &     & \\ddots &\\\\\n",
    "    0 & 0   & \\ldots & \\sigma_n\\end{pmatrix},\\qquad \n",
    "    \\Sigma^{-1}=\n",
    "    \\begin{pmatrix}\\frac{1}{\\sigma_1} & 0 & \\ldots & 0 \\\\\n",
    "    0 & \\frac{1}{\\sigma_2} &\\ldots & 0\\\\\n",
    "      &     & \\ddots &\\\\\n",
    "    0 & 0   & \\ldots & \\frac{1}{\\sigma_n}\\end{pmatrix}\n",
    "\\end{align*}\n",
    "Since the matrices $U$ and $V$ of the SVD are orthogonal, we have:\n",
    "\\begin{align*}\n",
    "AA^{-1} &= U\\Sigma V^\\top V\\Sigma^{-1} U^\\top = U\\Sigma \\Sigma^{-1} U^\\top = UU^\\top = I\\\\\n",
    "A^{-1}A &= V \\Sigma^{-1} U^\\top U\\Sigma V^\\top = V \\Sigma^{-1} \\Sigma V^\\top = V V^\\top = I\n",
    "\\end{align*}"
   ]
  },
  {
   "cell_type": "code",
   "execution_count": null,
   "id": "441d440a",
   "metadata": {},
   "outputs": [],
   "source": []
  }
 ],
 "metadata": {
  "kernelspec": {
   "display_name": "Python 3 (ipykernel)",
   "language": "python",
   "name": "python3"
  },
  "language_info": {
   "codemirror_mode": {
    "name": "ipython",
    "version": 3
   },
   "file_extension": ".py",
   "mimetype": "text/x-python",
   "name": "python",
   "nbconvert_exporter": "python",
   "pygments_lexer": "ipython3",
   "version": "3.9.13"
  }
 },
 "nbformat": 4,
 "nbformat_minor": 5
}