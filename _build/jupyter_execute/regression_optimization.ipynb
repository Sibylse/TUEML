{
 "cells": [
  {
   "cell_type": "code",
   "execution_count": 1,
   "id": "a5215066",
   "metadata": {
    "tags": [
     "remove-cell"
    ]
   },
   "outputs": [],
   "source": [
    "import numpy as np\n",
    "import matplotlib.pyplot as plt\n",
    "import pandas\n",
    "import scipy\n",
    "import scipy.linalg as linalg\n",
    "np.set_printoptions(precision=2,suppress=True)"
   ]
  },
  {
   "cell_type": "markdown",
   "id": "83ac18e6",
   "metadata": {},
   "source": [
    "# Minimizing the RSS\n",
    "Assuming that we have now selected a function class, and that it can be modelled as a linear function $f(\\vvec{x})=\\bm\\phi(\\vvec(x))^\\top\\bm\\beta$, we need to train the parameter vector $\\bm\\beta$ to fit the dataset. For that reason, we need to define an objective function that is small if the model $f(\\vvec{x})$ is suitable. Since our goal is to approximate the target values, we can simly measure the distance of our prediction $f(\\vvec{x})$ and the target value $y$.   \n",
    "````{tikz}\n",
    "%\\pgfplotsset{\n",
    "%\tcolormap={test}{[2pt]\n",
    "%    \trgb=(0.8,0.2,0.4);\n",
    "%       rgb=(0.8,0.2,0.4);\n",
    "%    },\n",
    "%}\n",
    "\\pgfplotsset{compat=newest}\n",
    "\\pgfmathsetseed{10} % set the random seed\n",
    "\\pgfplotstableset{ % Define the equations for x and y\n",
    "    create on use/x/.style={create col/expr={42+2*\\pgfplotstablerow}},\n",
    "    create on use/y/.style={create col/expr={(0.6*\\thisrow{x}+130)+8*rand}}\n",
    "}\n",
    "% create a new table with 30 rows and columns x and y:\n",
    "\\pgfplotstablenew[columns={x,y}]{30}\\loadedtable\n",
    "\n",
    "% Calculate the regression line\n",
    "\\pgfplotstablecreatecol[linear regression]{regression}{\\loadedtable}\n",
    "\n",
    "\\pgfplotsset{\n",
    "    colored residuals/.style 2 args={\n",
    "        only marks,\n",
    "        scatter,\n",
    "        point meta=explicit,\n",
    "        colormap={redblue}{color=(#1) color=(#2)},\n",
    "        error bars/y dir=minus,\n",
    "        error bars/y explicit,\n",
    "        error bars/draw error bar/.code 2 args={\n",
    "            \\pgfkeys{/pgf/fpu=true}\n",
    "            \\pgfmathtruncatemacro\\positiveresidual{\\pgfplotspointmeta<0}\n",
    "            \\pgfkeys{/pgf/fpu=false}\n",
    "            \\ifnum\\positiveresidual=0\n",
    "                \\draw [#2] ##1 -- ##2;\n",
    "            \\else\n",
    "                \\draw [#1] ##1 -- ##2;\n",
    "            \\fi\n",
    "        },\n",
    "        /pgfplots/table/.cd,\n",
    "            meta expr=(\\thisrow{y}-\\thisrow{regression})/abs(\\thisrow{y}-\\thisrow{regression}),\n",
    "            y error expr=\\thisrow{y}-\\thisrow{regression}\n",
    "    },\n",
    "    colored residuals/.default={magenta}{magenta}\n",
    "}\n",
    "\\begin{tikzpicture}\n",
    "\\begin{axis}[\n",
    "xlabel=$x$, % label x axis\n",
    "ylabel=$y$, % label y axis\n",
    "axis lines=left, %set the position of the axes\n",
    "xmin=40, xmax=105, % set the min and max values of the x-axis\n",
    "ymin=150, ymax=200, % set the min and max values of the y-axis\n",
    "yticklabels={,,},xticklabels={,,}\n",
    "]\n",
    "\n",
    "\\makeatletter\n",
    "\\addplot [colored residuals] table {\\loadedtable};\n",
    "\\addplot [\n",
    "    no markers,\n",
    "    thick, blue\n",
    "] table [y=regression] {\\loadedtable} ;\n",
    "\\end{axis}\n",
    "\\end{tikzpicture}\n",
    "````\n",
    "The plot above shows a set of datapoints that are approximated by an affine model (blue). The distance to the target $y$, plotted on the vertical axis, is indicated by the red bars. The distance indicated by the red bars reflect the absolute values $\\lvert y_i - f(\\vvec{x}_i)\\rvert$. However, the absolute value is not so easy to optimize, since it is non-differentiable at value zero. Instead, we can minimize the squared distances, which gives us a smooth objective function. \n",
    "\n",
    "The squared approximation error of a function $f$ to the target values $y$ can be compactly written as follows for a linear model $f(\\vvec{x})=\\bm\\phi(\\vvec(x))^\\top\\bm\\beta$\n",
    "\\begin{align*}\n",
    "    RSS(\\bm{\\beta}) &= \\sum_{i=1}^n(y_i-f(D_{i\\cdot}))^2\\\\\n",
    "    &= \\sum_{i=1}^n(y_i-\\bm{\\phi}(D_{i\\cdot}^\\top)^\\top\\bm{\\beta})^2\\\\\n",
    "    &= \\sum_{i=1}^n(y_i-X_{i\\cdot}\\bm{\\beta})^2\\\\\n",
    "    &=\\lVert \\vvec{y}-X\\bm{\\beta}\\rVert^2.\n",
    "\\end{align*}\n",
    "The function $RSS(\\bm{\\beta})$ is called the **Residual Sum of Squares**. We have defined above the matrix $X$, that gathers the transformed feature vectors $\\bm{\\phi}(D_{i\\cdot}^\\top)^\\top = X_{i\\cdot}$ over its rows. \n",
    "The matrix $X$ is called the **design matrix**. Likewise, we can gather the target values in the vector $\\vvec{y}$.\n",
    "\\begin{align*}\n",
    "    X&= \n",
    "    \\begin{pmatrix}\n",
    "    -- & \\bm{\\phi}(D_{1\\cdot}^\\top)^\\top &--\\\\\n",
    "    &\\vdots&\\\\\n",
    "    --& \\bm{\\phi}(D_{n\\cdot}^\\top)^\\top &--\n",
    "    \\end{pmatrix}\n",
    "    \\in\\mathbb{R}^{n\\times p},&\n",
    "    \\vvec{y}&=\n",
    "    \\begin{pmatrix}\n",
    "    y_1\\\\ \\vdots\\\\ y_n\n",
    "    \\end{pmatrix}\n",
    "    \\in\\mathbb{R}^n\n",
    "\\end{align*}\n",
    "We can now specify the linear regression task, using linear regression models and the squared Euclidean distance to measure the fit of the model.\n",
    "\n",
    "`````{admonition} Task (Linear Regression with Basis Functions)\n",
    ":class: tip\n",
    ":name: regr_task\n",
    "**Given** a dataset of $n$ observations\n",
    "\\begin{equation*}\\mathcal{D}=\\left\\{(D_{i\\cdot},y_i)\\vert D_{i\\cdot}\\in\\mathbb{R}^{1\\times d}, y_i\\in\\mathbb{R}, 1\\leq i \\leq n\\right\\}\\end{equation*}   \n",
    "**Choose** a basis function $\\bm\\phi:\\mathbb{R}^d\\rightarrow \\mathbb{R}^p$, and create the design matrix $X\\in\\mathbb{R}^{n\\times p}$, where $X_{i\\cdot}=\\bm\\phi(D_{i\\cdot}^\\top)^\\top$     \n",
    "**Find** the regression vector $\\bm\\beta$, solving the following objective\n",
    "\\begin{align*}\n",
    "    \\min_{\\bm\\beta} \\ RSS(\\bm\\beta) = \\lVert \\vvec{y}-X\\bm\\beta\\rVert^2 &\\ \n",
    "    \\text{s.t. } \\bm\\beta\\in\\mathbb{R}^p.\n",
    "\\end{align*}\n",
    "**Return** the predictor function $f:\\mathbb{R}^d\\rightarrow\\mathbb{R}$, $f(\\vvec{x})=\\bm\\phi(\\vvec{x})^\\top\\bm\\beta$.  \n",
    "`````\n",
    "\n",
    "## Convexity of the RSS\n",
    "The RSS is a convex optimization objective as it is a composition of an affine function and a convex function (the squared $L_2$-norm), which is again convex.\n",
    "````{prf:theorem}\n",
    "The function $RSS(\\bm\\beta)=\\lVert \\vvec{y}-X\\bm{\\beta}\\rVert^2$ is convex.\n",
    "````\n",
    "````{prf:proof}\n",
    "The squared $L_2$-norm $\\lVert\\cdot\\rVert^2$ is a convex function. \n",
    "\n",
    "The composition of the affine function $g(\\bm{\\beta})=\\vvec{y}-X\\bm{\\beta}$ with the convex function $\\Vert\\cdot\\rVert^2$, given by the $RSS(\\bm{\\beta})=\\lVert g(\\bm{\\beta})\\rVert^2$ is then also convex.\n",
    "````\n",
    "As a corollary, the linear regression optimization objective\n",
    "\\begin{align*}\n",
    "    \\min_{\\bm{\\beta}}&\\ RSS(\\bm{\\beta})& \\text{s.t. }\\bm{\\beta}\\in\\mathbb{R}^p\n",
    "\\end{align*}\n",
    "is convex, since the feasible set is the vector space of $\\mathbb{R}^p$, which is convex.\n",
    "So, we have an unconstrained convex optimization problem with a smooth objective function. That means that all stationary points must be minimizers. Let's try to find all stationary points.\n",
    "## Minimizers of the RSS\n",
    "We compute the stationary points by setting the gradient to zero. The gradient of the $RSS(\\bm{\\beta}) = \\lVert \\vvec{y}-X\\bm{\\beta}\\rVert^2=f(\\vvec{g}(\\bm{\\beta}))$ is computed by the chain rule, as discussed in {ref}`opt_exercises_gradients`. \n",
    ":::{math}\n",
    ":label: eq:minimizers\n",
    "\\begin{align*}\n",
    "\\nabla_{\\bm{\\beta}} RSS(\\bm{\\beta})= -2X^\\top(\\vvec{y}-X\\bm{\\beta}) =0 \n",
    "\\quad \\Leftrightarrow \\quad\n",
    "     X^\\top X{\\bm{\\beta}} = X^\\top \\vvec{y}\n",
    "\\end{align*}\n",
    ":::\n",
    "According to FONC and convexity of the optimization objective, the global minimizers of the regression problem are given by the set of regression parameter vectors satisfying the equation above \n",
    "$$\\{\\bm{\\beta}\\in\\mathbb{R}^p\\mid X^\\top X\\bm{\\beta} =X^\\top\\vvec{y} \\}.$$\n",
    "\n",
    "If the matrix $X^\\top X$ is invertible, then there is only one minimizer. In this case we can solve the equation for $\\bm{\\beta}$ by multiplying with $(X^\\top X)^{-1}$\n",
    "$$\\bm{\\beta}= (X^\\top X)^{-1}X^\\top\\vvec{y}.$$\n",
    "\n",
    "However, there also might be _infinitely many_ global minimizers of $RSS(\\bm{\\beta})$. "
   ]
  },
  {
   "cell_type": "markdown",
   "id": "5ab0397c",
   "metadata": {
    "tags": [
     "remove-cell"
    ]
   },
   "source": [
    "````{tikz}\n",
    "\\begin{tikzpicture}\n",
    "\\begin{axis}[\n",
    "width=\\textwidth,\n",
    "xlabel=$x_1$, % label x axis\n",
    "ylabel=$y$, % label y axis\n",
    "axis lines=left, %set the position of the axes\n",
    "xmin=0, xmax=7, % set the min and max values of the x-axis\n",
    "domain=0:6,\n",
    "ymax=12, % set the min and max values of the y-axis\n",
    "legend pos=outer north east]\n",
    "\\addplot [only marks, black, mark = *] \n",
    "coordinates {\n",
    "(5,2)\n",
    "(3,5)\n",
    "(1,3)\n",
    "};\n",
    "\\addplot+[magenta,thick,smooth, mark=none]\n",
    "{x^3-(5/8+9)*x^2+(7/2+23)*x+1/8-15};\n",
    "\\addplot+[blue,thick,smooth, mark=none]\n",
    "{x^3/2-(5/8+9/2)*x^2+(7/2+23/2)*x+1/8-15/2};\n",
    "\\addplot+[green,thick,smooth, mark=none]\n",
    "{x^3/4-(5/8+9/4)*x^2+(7/2+23/4)*x+1/8-15/4};\n",
    "\\end{axis}\n",
    "\\end{tikzpicture}\n",
    "````"
   ]
  },
  {
   "cell_type": "code",
   "execution_count": 2,
   "id": "703ceede",
   "metadata": {
    "tags": [
     "remove-cell"
    ]
   },
   "outputs": [
    {
     "name": "stdout",
     "output_type": "stream",
     "text": [
      "[[    3.     9.    35.   153.]\n",
      " [    9.    35.   153.   707.]\n",
      " [   35.   153.   707.  3369.]\n",
      " [  153.   707.  3369. 16355.]] [ 10.  28.  98. 388.]\n"
     ]
    },
    {
     "data": {
      "text/plain": [
       "(array([[ 1.  ,  3.  , 11.67, 51.  ],\n",
       "        [ 0.  ,  1.  ,  6.  , 31.  ],\n",
       "        [ 0.  ,  0.  ,  1.  ,  9.  ],\n",
       "        [ 0.  ,  0.  ,  0.  ,  0.  ]]),\n",
       " array([[ 3.33],\n",
       "        [-0.25],\n",
       "        [-0.62],\n",
       "        [-0.  ]]))"
      ]
     },
     "execution_count": 2,
     "metadata": {},
     "output_type": "execute_result"
    }
   ],
   "source": [
    "# calculations invisible\n",
    "D = np.array([5,3,1])\n",
    "y = np.array([2,5,3])\n",
    "def ϕ(x):\n",
    "    return np.row_stack((np.ones(x.shape[0]),x, x**2, x**3))\n",
    "X=ϕ(D).T\n",
    "print(X.T@X,X.T@y)\n",
    "A = X.T@X\n",
    "b = X.T@y\n",
    "A1=np.vstack((A[0,:]/3,A[1,:]-A[0,:]*3, A[2,:] - A[0,:]/3*35, A[3,:] - A[0,:]/3*153))\n",
    "b1=np.vstack((b[0]/3,b[1]-b[0]*3, b[2] - b[0]/3*35, b[3] - b[0]/3*153))\n",
    "A1,b1\n",
    "A2=np.vstack((A1[0,:],A1[1,:]/8, A1[2,:] - A1[1,:]/8*48, A1[3,:] - A1[1,:]/8*248))\n",
    "b2 = np.vstack((b1[0],b1[1]/8, b1[2] - b1[1]/8*48, b1[3] - b1[1]/8*248))\n",
    "A2,b2\n",
    "A3=np.vstack((A2[0,:],A2[1,:], A2[2,:]/A2[2,2], A2[3,:] - A2[2,:]/A2[2,2]*96))\n",
    "b3=np.vstack((b2[0],b2[1], b2[2]/A2[2,2], b2[3] - b2[2]/A2[2,2]*96))\n",
    "A3,b3"
   ]
  },
  {
   "cell_type": "markdown",
   "id": "9b74d420",
   "metadata": {},
   "source": [
    "## Getting all Regression Solvers\n",
    "If the matrix $X^\\top X$ is not invertible, then we have infinitely many regression solvers. This is particularly the case when $p>n$.\n",
    "\n",
    "````{prf:example} Regression with $p>n$\n",
    ":label: example_reg_p_larger_n\n",
    "We consider a toy regression task, where the data is given by following three data points (observations) of one feature.\n",
    "\n",
    "    D = np.array([5,3,1])\n",
    "    y = np.array([2,5,3])\n",
    "    pandas.DataFrame({\"F1\":D,\"y\":y})\n",
    "\n",
    "That is, our given data looks as follows:\n",
    " \n",
    " $x$ | $y$ \n",
    "----------------|----------------\n",
    "5 | 2 \n",
    "3 | 5 \n",
    "1 | 3 \n",
    "\n",
    "We fit a polynomial of degree $k=3$. For polynomial regression functions $f:\\mathbb{R}\\rightarrow\\mathbb{R}$ we have\n",
    "$$f(x) = \\beta_0 +\\beta_1 x+ \\beta_2x^2 + \\beta_3x^3 = \\phi(x)^\\top\\bm\\beta,$$\n",
    "where \n",
    "$$\\bm\\phi(x)^\\top=\\begin{pmatrix}1& x& x^2& x^3\\end{pmatrix}.$$\n",
    "The design matrix gathers the transposed feature vectors of the data matrix:\n",
    "$$X = \\begin{pmatrix} \\phi^\\top(5)\\\\ \\phi^\\top(3)\\\\ \\phi^\\top(1)\\end{pmatrix} = \\begin{pmatrix} 1 & 5 & 25 & 125\\\\ 1 & 3 & 9 & 27\\\\ 1 & 1 & 1 & 1\\end{pmatrix}$$\n",
    "We have $n=3$ observations of $p=4$ features in the design matrix, and hence, $p>n$.\n",
    "\n",
    "We have to solve the system of equations given by $X^\\top X \\bm\\beta = X^\\top \\vvec{y}$:\n",
    "\\begin{align*}\n",
    "\\begin{pmatrix}\n",
    "3 &     9 &    35 &   153\\\\\n",
    "9 &    35 &   153 &   707\\\\\n",
    "35&   153 &   707 &  3369\\\\\n",
    "153&  707 &  3369 & 16355\n",
    "\\end{pmatrix} \\bm\\beta = \n",
    "\\begin{pmatrix}\n",
    "10\\\\  28\\\\  98\\\\ 388\n",
    "\\end{pmatrix}\n",
    "\\end{align*}\n",
    "We can solve this system of equations by hand. There are multiple ways to do this. One is to transform the equations above into an upper triangle form. We detail the steps to do this in {ref}`reg_exercises`. As a solution set of regression solvers in dependence of $\\beta_3$, we get \n",
    "$$\\left\\{\\beta = \\begin{pmatrix}\\frac{1}{8}-15\\beta_3\\\\3.5 +23\\beta_3\\\\-\\frac{5}{8} -9\\beta_3\\\\\\beta_3 \\end{pmatrix} \\mid \\beta_3\\in\\mathbb{R} \\right\\}.$$\n",
    "```{tikz}\n",
    "\\begin{tikzpicture}\n",
    "\\begin{axis}[\n",
    "width=.8\\textwidth,\n",
    "xlabel=$x_1$, % label x axis\n",
    "ylabel=$y$, % label y axis\n",
    "axis lines=left, %set the position of the axes\n",
    "xmin=0, xmax=7, % set the min and max values of the x-axis\n",
    "domain=0:6,\n",
    "ymax=12, % set the min and max values of the y-axis\n",
    "legend pos=outer north east]\n",
    "\\addplot+[only marks, black, mark = *] \n",
    "coordinates {\n",
    "(5,2)\n",
    "(3,5)\n",
    "(1,3)\n",
    "};\n",
    "\\addlegendentry{Data Points}\n",
    "\\addplot+[magenta,thick,smooth, mark=none]\n",
    "{x^3-(5/8+9)*x^2+(7/2+23)*x+1/8-15};\n",
    "\\addlegendentry{$\\beta_3=1$}\n",
    "\\addplot+[blue,thick,smooth, mark=none]\n",
    "{x^3/2-(5/8+9/2)*x^2+(7/2+23/2)*x+1/8-15/2};\n",
    "\\addlegendentry{$\\beta_3=0.5$}\n",
    "\\addplot+[green,thick,smooth, mark=none]\n",
    "{x^3/4-(5/8+9/4)*x^2+(7/2+23/4)*x+1/8-15/4};\n",
    "\\addlegendentry{$\\beta_3=0.25$}\n",
    "\\end{axis}\n",
    "\\end{tikzpicture}\n",
    "```\n",
    "````\n",
    "In the example above, we could compute the set of regression vectors by hand, but how can we compute the set of regression vectors when the dataset bigger? How can we numerically compute the set of all regression vectors?"
   ]
  },
  {
   "cell_type": "markdown",
   "id": "8cdaa5fc",
   "metadata": {
    "tags": [
     "remove-cell"
    ]
   },
   "source": [
    "In this case ($p>n$), the matrix $X^\\top X$ is not invertible. When you try to compute the inverse of $X^\\top X$ by hand, then you will get a contradiction. If we compute the inverse numerically with `np.linalg.inv(X.T@X)`, then you will see that the computed \"inverse\" has extremely large values (in the scope of $10^13$ to $10^14$). This corresponds to the fact that we are trying to divide by zero (in a matrix way). Generally, you can assume that such extreme values (either being very close to zero like `1e-16` or very big like `1e16`) indicates values that are actually equal to infinity or equal to zero.\n",
    "\n",
    "Anyways, we can easily check how good the computed inverse is, by multiplying the \"inverse\" with the matrix itself. The multiplication of the computed inverse and the matrix itself should return an approximate identity matrix. However, if we check `np.linalg.inv(X.T@X)@(X.T@X)`, then we see that this matrix is nowhere near the identity matrix.\n",
    "\n",
    "In turn, what mostly works is to use a numerical solver for the system of linear equations which returns the global minimizers $\\beta$ of the regression objective\n",
    "$$\\{\\beta\\in\\mathbb{R}^p\\mid X^\\top X\\beta = X^\\top y\\}.$$\n",
    "\n",
    "With `β = linalg.solve(X.T@X,X.T@y)` yields a solution for $\\beta$, but returns a warning that the result might not be accurate. We observe that this result is accurate and by checking if $X^\\top X\\beta = X^\\top y$. You can do this  by inspecting `X.T@X@β, X.T@y`, which indeed returns the same vector.  "
   ]
  },
  {
   "cell_type": "markdown",
   "id": "b3c7d41b",
   "metadata": {},
   "source": [
    "### Characterizing the Set of Regression Solvers with SVD\n",
    "We derive now a general solution for the (set of) regression solvers.\n",
    "to do so, we have a look into the SVD of $X$, that gives us more insight into the regression equation when $X^\\top X$ is not invertible. You might remember from the linear algebra recap, that the invertibility of a matrix is determined by the singular values of the matrix: if all the singular values are larger than zero, then the matrix is invertible, otherwise not. The singular values of $X^\\top X$ are determined by the singular values of $X=U\\Sigma V^\\top$, since we have\n",
    "\\begin{align*}\n",
    "    X^\\top X = V\\Sigma^\\top \\underbrace{U^\\top U}_{=I} \\Sigma V^\\top = V\\Sigma^\\top \\Sigma V^\\top.\n",
    "\\end{align*}"
   ]
  },
  {
   "cell_type": "markdown",
   "id": "b7ea830c",
   "metadata": {
    "tags": [
     "remove-cell"
    ]
   },
   "source": [
    " The singular value decomposition is uniquely defined and the decomposition $V\\Sigma^\\top \\Sigma V^\\top$ satisfies the requirements for the singular value decomposition of $X^\\top X$. Hence, the singular values of $X^\\top X$ are given by the diagonal elements of the matrix $\\Sigma^\\top \\Sigma$. Let $r$ be the rank of the matrix $X$, that is the number of nonzero singular values. If $n<p$, then we know that $r\\leq n$. That is, the matrix $\\Sigma$ looks like\n",
    "\\begin{align}\n",
    "\\Sigma= \n",
    "\\left(\n",
    "\\begin{array}{c:r}\n",
    "\\begin{matrix}\n",
    "\\sigma_1 & \\ldots & 0  \\\\\n",
    "\\vdots  & \\ddots  & \\vdots \\\\\n",
    "0 & \\ldots   & \\sigma_r \\\\\n",
    "& \\vvec{0} &\n",
    "\\end{matrix} & \\vvec{0}\n",
    "\\end{array}\n",
    "\\right) \n",
    "= \\left(\n",
    "\\begin{array}{c:r}\n",
    "\\begin{matrix}\\Sigma_r\\\\\\vvec{0}\\end{matrix} & \\vvec{0} \\\\ \n",
    "\\end{array}\n",
    "\\right).\n",
    "\\label{eq:STS}\n",
    "\\end{align}"
   ]
  },
  {
   "cell_type": "markdown",
   "id": "917d530f",
   "metadata": {},
   "source": [
    "Given the singular value decomposition of $X$, we can try to solve Eq. {eq}`eq:minimizers` for $\\bm\\beta$:\n",
    "\\begin{align}\n",
    "   X^\\top X\\bm{\\beta} &= X^\\top \\vvec{y} \\quad \n",
    "   \\Leftrightarrow \\quad V\\Sigma^\\top\\Sigma V^\\top \\bm{\\beta}= V\\Sigma^\\top U^\\top\\vvec{y}\n",
    "   \\quad \n",
    "   \\Leftrightarrow \\quad \\Sigma^\\top\\Sigma V^\\top \\bm{\\beta}= \\Sigma^\\top U^\\top\\vvec{y}, \\label{eq:beta1}\n",
    "\\end{align}\n",
    "where the last equality follows from multiplying with $V^\\top$ from the left."
   ]
  },
  {
   "cell_type": "markdown",
   "id": "ec1f5dc5",
   "metadata": {},
   "source": [
    "````{prf:observation} Characterization of Regression solvers by SVD\n",
    "The global minimizers $\\bm{\\beta}$ to the {ref}`Linear Regression<regr_task>` task with design matrix $X$, having the SVD $X=U\\Sigma V^\\top$, are given by\n",
    "$$\\{\\bm{\\beta}\\in\\mathbb{R}^p\\mid \\Sigma^\\top\\Sigma V^\\top \\bm{\\beta}= \\Sigma^\\top U^\\top\\vvec{y} \\}.$$\n",
    "````\n",
    "$\\Sigma^\\top\\Sigma\\in\\mathbb{R}^{p\\times p}$ is a diagonal matrix, where not all elements on the diagonal are nonzero if $n<p$. Hence, it does **not** have an inverse if $n<p$. This becomes maye a bit more clear when we look at the following observation"
   ]
  },
  {
   "cell_type": "markdown",
   "id": "e24d15a5",
   "metadata": {},
   "source": [
    "(obs:sigma_r)=\n",
    "````{prf:observation} Singular value matrix of rank $r$\n",
    "Let $X\\in\\mathbb{R}^{n\\times p}$ be a matrix with rank $r$, meaning that $X$ has only $r$ nonzero singular values. Let $X=U\\Sigma V^\\top$ be the SVD of $X$, then the matrix $\\Sigma$ looks as follows:\n",
    "\\begin{align*}\n",
    "\\Sigma= \n",
    "\\left(\n",
    "\\begin{array}{c:r}\n",
    "\\begin{matrix}\n",
    "\\sigma_1 & \\ldots & 0  \\\\\n",
    "\\vdots  & \\ddots  & \\vdots \\\\\n",
    "0 & \\ldots   & \\sigma_r \\\\\n",
    "& \\vvec{0} &\n",
    "\\end{matrix} & \\vvec{0}\n",
    "\\end{array}\n",
    "\\right) \n",
    "= \\left(\n",
    "\\begin{array}{c:r}\n",
    "\\begin{matrix}\\Sigma_r\\\\\\vvec{0}\\end{matrix} & \\vvec{0} \\\\ \n",
    "\\end{array}\n",
    "\\right).\n",
    "\\end{align*}\n",
    "The matrices $\\vvec{0}$ indicate here constant zero matrices whose dimensionalities are inferred from context. The constant zero matrix below $\\Sigma_r$ has a dimensionality of $n-r\\times r$ and the constant zero matrix on the right has a dimensionality of $n\\times p-r$. Correspondingly, if $n=r$, then the lower zero matrix doesn't exist and if $r=p$, then the zero matrix on the right doesn't exist. \n",
    "````\n",
    "The notation of Observation {ref}`obs:sigma_r` helps us now to derive the set of all regression solvers."
   ]
  },
  {
   "cell_type": "markdown",
   "id": "ff72046e",
   "metadata": {},
   "source": [
    "````{prf:theorem} Set of all regression solvers\n",
    "Let $X=U\\Sigma V^\\top\\in\\mathbb{R}^{n\\times p}$ be the SVD of the design matrix of the {ref}`Linear Regression<regr_task>` task. If only $r<p$ singular values of $X$ are nonzero ($X$ has a rank of $r$), then the set of global minimizers $\\bm{\\beta}$ is given by\n",
    "$$\\left\\{\\bm{\\beta}= V\\begin{pmatrix}\\Sigma_r^{-1} U_r^\\top\\vvec{y}\\\\z\\end{pmatrix}\\mid z\\in\\mathbb{R}^{p-r} \\right\\}.$$\n",
    "$\\Sigma_r$ denotes here the matrix containing only the first $r$ rows and columns of the singular values matrix $\\Sigma$ and $U_r$ denotes the matrix containing the first $r$ left singular vectors (the first $r$ columns of $U$).\n",
    "````\n",
    "````{toggle}\n",
    "```{prf:proof}\n",
    "We start at the characterization of regression solvers by SVD (Observation):\n",
    "\\begin{align}\n",
    "\\Sigma^\\top\\Sigma V^\\top\\bm\\beta &= \\Sigma^\\top U_r^\\top y\\\\\n",
    "\\Leftrightarrow\n",
    "\\left(\\begin{array}{cc}\n",
    "\\begin{matrix}\n",
    "\\Sigma_r&\\vvec{0}\\end{matrix} \\\\\\hdashline \\vvec{0} \n",
    "\\end{array}\\right)\n",
    "\\left(\n",
    "\\begin{array}{c:r}\n",
    "\\begin{matrix}\\Sigma_r\\\\\\vvec{0}\\end{matrix} & \\vvec{0} \\\\ \n",
    "\\end{array}\n",
    "\\right)\n",
    "V^\\top \\bm\\beta &=  \\left(\\begin{array}{cc}\n",
    "\\begin{matrix}\n",
    "\\Sigma_r&\\vvec{0}\\end{matrix} \\\\\\hdashline \\vvec{0} \n",
    "\\end{array}\\right) U_r^\\top y\n",
    "\\end{align}\n",
    "We see here that only the first $r$ equations are relevant, the remaining equations $0=0$ are evidently true. We further shorten the notation by setting $\\hat{\\bm\\beta}=V^\\top\\bm\\beta$. We have then\n",
    "\\begin{align}\n",
    "\\Sigma_r\\begin{pmatrix} \\Sigma_r & \\vvec{0}\\end{pmatrix}\\hat{\\bm\\beta} &= \\Sigma_r U_r^\\top y\\\\ \n",
    "\\Leftrightarrow\n",
    "\\begin{pmatrix} \\Sigma_r & \\vvec{0}\\end{pmatrix}\\hat{\\bm\\beta} &= U_r^\\top y\\\\ \n",
    "\\Leftrightarrow\n",
    "\\begin{pmatrix} I_r & \\vvec{0}\\end{pmatrix}\\hat{\\bm\\beta} &= \\Sigma_r^{-1} U_r^\\top y\\\\\n",
    "\\Leftrightarrow\n",
    "\\hat{\\bm\\beta}_{0:r} &= \\Sigma_r^{-1} U_r^\\top y\n",
    "\\end{align}\n",
    "We see that only the first $r$ coordinates of $\\hat{\\bm\\beta}$ are determined by the given equation. What we have in the rest of the coordinates is free to choose and the equation will still hold. We model the coordinates that are free to choose with the vector $z$. Then we have\n",
    "\n",
    "\\begin{align}\n",
    "\\hat{\\bm\\beta} &= \\begin{pmatrix}\\Sigma_r^{-1} U_r^\\top y\\\\z \\end{pmatrix}\\\\\n",
    "\\Leftrightarrow V^\\top\\bm\\beta &= \\begin{pmatrix}\\Sigma_r^{-1} U_r^\\top y\\\\z \\end{pmatrix}\\\\\n",
    "\\Leftrightarrow \\bm\\beta &= V\\begin{pmatrix}\\Sigma_r^{-1} U_r^\\top y\\\\z \\end{pmatrix}\n",
    "\\end{align}\n",
    "\n",
    "```\n",
    "````"
   ]
  },
  {
   "cell_type": "markdown",
   "id": "1aebbf75",
   "metadata": {},
   "source": [
    "## Example Determination of Regression Solvers by SVD\n",
    "We consider again the data from {prf:ref}`example_reg_p_larger_n`. Yet, instead of computing the solution by hand, we implement now a general scheme to obtain the set of regression vectors. First, we compute the SVD of the design matrix $X$"
   ]
  },
  {
   "cell_type": "code",
   "execution_count": 3,
   "id": "4497ca43",
   "metadata": {},
   "outputs": [],
   "source": [
    "D = np.array([5,3,1])\n",
    "y = np.array([2,5,3])\n",
    "def ϕ(x):\n",
    "    return np.row_stack((np.ones(x.shape[0]),x, x**2, x**3))\n",
    "X=ϕ(D).T\n",
    "U,σs,Vt = linalg.svd(X, full_matrices=True)\n",
    "V=Vt.T"
   ]
  },
  {
   "cell_type": "markdown",
   "id": "06911470",
   "metadata": {},
   "source": [
    "When we look at the singular values, then we have $r=3<4=p$."
   ]
  },
  {
   "cell_type": "code",
   "execution_count": 4,
   "id": "018024cd",
   "metadata": {},
   "outputs": [
    {
     "data": {
      "text/plain": [
       "array([130.7 ,   4.2 ,   0.84])"
      ]
     },
     "execution_count": 4,
     "metadata": {},
     "output_type": "execute_result"
    }
   ],
   "source": [
    "σs"
   ]
  },
  {
   "cell_type": "markdown",
   "id": "f6e822c1",
   "metadata": {},
   "source": [
    "Correspondingly, the matrix $\\Sigma^\\top$ has a row of zeros at the bottom."
   ]
  },
  {
   "cell_type": "code",
   "execution_count": 5,
   "id": "7b0b481f",
   "metadata": {},
   "outputs": [
    {
     "data": {
      "text/plain": [
       "array([[130.7 ,   0.  ,   0.  ],\n",
       "       [  0.  ,   4.2 ,   0.  ],\n",
       "       [  0.  ,   0.  ,   0.84],\n",
       "       [  0.  ,   0.  ,   0.  ]])"
      ]
     },
     "execution_count": 5,
     "metadata": {},
     "output_type": "execute_result"
    }
   ],
   "source": [
    "Σ = np.column_stack((np.diag(σs),np.zeros(3)))\n",
    "Σ.T"
   ]
  },
  {
   "cell_type": "markdown",
   "id": "d4f4f73d",
   "metadata": {},
   "source": [
    "Correspondingly, we see in the set of equations given by $\\Sigma^\\top \\Sigma V^\\top \\beta = \\Sigma^\\top U \\vvec{y}$ that the last equation is always true ($0=0$)."
   ]
  },
  {
   "cell_type": "code",
   "execution_count": 6,
   "id": "95b7bfe6",
   "metadata": {
    "tags": [
     "remove-cell"
    ]
   },
   "outputs": [
    {
     "name": "stdout",
     "output_type": "stream",
     "text": [
      "[[  157.18   724.22  3445.93 16714.05]\n",
      " [   -4.36    -8.61   -14.36     3.38]\n",
      " [    0.58     0.25    -0.32     0.05]\n",
      " [    0.       0.       0.       0.  ]] β= [415.45 -21.56   1.04   0.  ]\n"
     ]
    }
   ],
   "source": [
    "print(Σ.T@Σ@V.T,\"β=\",Σ.T@U@y)"
   ]
  },
  {
   "cell_type": "markdown",
   "id": "797306b6",
   "metadata": {},
   "source": [
    "\\begin{align*}\n",
    "\\begin{pmatrix}\n",
    " 157.18 &   724.22 &  3445.93 & 16714.05\\\\\n",
    " -4.36  &  -8.61  & -14.36   &  3.38\\\\\n",
    " 0.58   & 0.25   & -0.32    & 0.05\\\\\n",
    " 0      & 0      & 0        & 0\n",
    "\\end{pmatrix}\n",
    "\\beta &= \n",
    "\\begin{pmatrix}\n",
    "415.45 \\\\ -21.56 \\\\ 1.04 \\\\   0\n",
    "\\end{pmatrix}\n",
    "\\end{align*}"
   ]
  },
  {
   "cell_type": "markdown",
   "id": "e3091045",
   "metadata": {},
   "source": [
    "We have an underdetermined system. There are only 3 equations to determine 4 parameters of $\\beta$. If you are going to solve this system by hand, then you will see that one parameter is always left over (it can't be determined by the given equations). Setting this parameter to any number yields then one of the infinite solutions to the regression problem. For example, we can set $\\beta_3=2$.  "
   ]
  },
  {
   "cell_type": "markdown",
   "id": "d14a2087",
   "metadata": {},
   "source": [
    "We can now calculate a $\\beta$ in the set of global minimizers. If ```random=True``` then a random matrix replaces the zero rows in the pseudo inverse of $\\Sigma^\\top\\Sigma$."
   ]
  },
  {
   "cell_type": "code",
   "execution_count": 7,
   "id": "d19a358c",
   "metadata": {},
   "outputs": [],
   "source": [
    "def get_beta(U,Σ,V,random =True):\n",
    "    Σ_pseudoinv = Σ.copy()\n",
    "    Σ_pseudoinv[Σ>0] = 1/Σ[Σ>0]\n",
    "    w = Σ_pseudoinv.T@U.T@y\n",
    "    if random:\n",
    "        p=V.shape[1]\n",
    "        r=(Σ>0).sum() # the number of nonzero singular values\n",
    "        w[r:p]=np.random.rand(p-r)*50\n",
    "    return V@w"
   ]
  },
  {
   "cell_type": "markdown",
   "id": "1f1a955f",
   "metadata": {},
   "source": [
    "Plot it! The function resulting from setting ```random=False``` is the one in blue."
   ]
  },
  {
   "cell_type": "code",
   "execution_count": 8,
   "id": "f4c7ba90",
   "metadata": {},
   "outputs": [
    {
     "data": {
      "image/png": "[encoded data removed]",
      "text/plain": [
       "<Figure size 720x504 with 1 Axes>"
      ]
     },
     "metadata": {
      "filenames": {
       "image/png": "/Users/shess/TUEML/_build/jupyter_execute/regression_optimization_25_0.png"
      },
      "needs_background": "light"
     },
     "output_type": "display_data"
    }
   ],
   "source": [
    "plt.figure(figsize=(10, 7))\n",
    "x = np.linspace(0, 6, 100)\n",
    "β = get_beta(U,Σ,V,random = False)\n",
    "f_x = ϕ(x).T@β\n",
    "plt.plot(x, f_x, label=\"f_0\"+\", β[3]=\"+str(np.round(β[3],2)))\n",
    "for i in range(1,5):\n",
    "    β = get_beta(U,Σ,V)\n",
    "    f_x = ϕ(x).T@β\n",
    "    plt.plot(x, f_x, label=\"f_\"+str(i)+\", β[3]=\"+str(np.round(β[3],2)))\n",
    "plt.scatter(D, y, edgecolor='b', s=50)\n",
    "plt.xlabel(\"x\")\n",
    "plt.ylabel(\"y\")\n",
    "plt.ylim((-5, 15))\n",
    "plt.legend(loc=\"best\")\n",
    "plt.show()"
   ]
  },
  {
   "cell_type": "code",
   "execution_count": null,
   "id": "a40c18fe",
   "metadata": {},
   "outputs": [],
   "source": []
  }
 ],
 "metadata": {
  "celltoolbar": "Tags",
  "kernelspec": {
   "display_name": "Python 3 (ipykernel)",
   "language": "python",
   "name": "python3"
  },
  "language_info": {
   "codemirror_mode": {
    "name": "ipython",
    "version": 3
   },
   "file_extension": ".py",
   "mimetype": "text/x-python",
   "name": "python",
   "nbconvert_exporter": "python",
   "pygments_lexer": "ipython3",
   "version": "3.9.13"
  }
 },
 "nbformat": 4,
 "nbformat_minor": 5
}