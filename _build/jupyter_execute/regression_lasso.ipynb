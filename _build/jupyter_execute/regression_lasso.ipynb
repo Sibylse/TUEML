{
 "cells": [
  {
   "cell_type": "markdown",
   "id": "a3762137",
   "metadata": {},
   "source": [
    "# Lasso"
   ]
  },
  {
   "cell_type": "markdown",
   "id": "db93315d",
   "metadata": {},
   "source": [
    "Lasso Regression is the name of the regression task employing an $L_1$-regularization term.\n",
    "\n",
    "`````{admonition} Task (Lasso Regression)\n",
    ":class: tip\n",
    "**Given** a data matrix $D\\in\\mathbb{R}^{n\\times d}$, a target vector $\\vvec{y}\\in\\mathbb{R}^n$, the design matrix $X\\in\\mathbb{R}^{n\\times p}$, where $X_{i\\cdot}=\\bm\\phi(D_{i\\cdot}^\\top)^\\top$ and a regularization weight $\\lambda>0$.      \n",
    "\n",
    "**Find** the regression vector $\\bm\\beta$, solving the following objective\n",
    ":::{math}\n",
    ":label: eq:lasso_obj\n",
    "\\begin{align}\n",
    "    \\min_{\\bm\\beta\\in\\mathbb{R}^p} RSS_{L_1}(\\bm\\beta) &= \\lVert \\vvec{y}-X\\bm\\beta\\rVert^2 +\\lambda \\lvert\\bm{\\beta}\\rvert.\n",
    "\\end{align}\n",
    ":::\n",
    "**Return** the predictor function $f:\\mathbb{R}^d\\rightarrow\\mathbb{R}$, $f(\\vvec{x})=\\bm\\phi(\\vvec{x})^\\top\\bm\\beta$.\n",
    "`````\n",
    "The drawback of using a $L_1$-regularization term is that the resulting objective function in Eq. {eq}`eq:lasso_obj` is not differentiable if any value of $\\beta$ is zero. However, we can generalize from the concept of a gradient to a subgradient, and the subgradient of the $L_1$-norm is given as follows:\n",
    "\\begin{align}\n",
    "    \\frac{\\partial\\lvert\\bm\\beta\\rvert}{\\partial \\beta_k} \\in \n",
    "    \\begin{cases}\n",
    "        \\{1\\},& \\text{if } \\beta_k>0\\\\\n",
    "        \\{-1\\},& \\text{if } \\beta_k<0\\\\\n",
    "        [-1,1],& \\text{if } \\beta_k = 0\n",
    "    \\end{cases}\n",
    "\\end{align}\n",
    "We observe that the subgradient returns a set of values where $\\beta_k=0$.\n",
    "Minimizers of objective functions which have a subgradient satisfy $\\vvec{0}\\in\\nabla f(\\vvec{x})$ (FONC for subgradients).    \n",
    "\n",
    "## Optimization\n",
    "The FONC for subgradients would allow us in principle to find again the stationary points, that are also the minimizers of the Lasso task, because the Lasso objective is convex. Unfortunately, solving for the stationary points of the subgradient $\\nabla RSS_{L_1}(\\bm\\beta)=0$ is too complicated (feel free to try it yourself). Yet, the function is simple enough to do the next best thing, which is coordinate descent. We derive the minimizers subject to one coordinate as stated in the following theorem.\n",
    "\n",
    "`````{prf:theorem} Coordinate-wise Lasso Minimizers\n",
    "The minimizer of Lasso subject to the coordinate $\\beta_k$ \n",
    "$$\\beta_k^* = \\argmin_{\\beta_k\\in\\mathbb{R}} \\lVert\\vvec{y}-X\\bm\\beta\\rVert^2+\\lambda\\lvert\\bm\\beta\\rvert$$\n",
    "is given for $c_k =  X_{\\cdot k}^\\top \\vvec{y}- \\sum_{i\\neq k}X_{\\cdot k}^\\top X_{\\cdot i}\\beta_i$ by\n",
    "\\begin{align}\n",
    "\\beta_k^*&= \\begin{cases}\n",
    "\\frac{1}{\\lVert X_{\\cdot k}\\rVert^2}(c_k -\\lambda) & \\text{if } c_k>\\lambda\\\\\n",
    "\\frac{1}{\\lVert X_{\\cdot k}\\rVert^2}(c_k +\\lambda) & \\text{if } c_k<-\\lambda\\\\\n",
    "0 & \\text{if } -\\lambda\\leq c_k\\leq \\lambda.\n",
    "\\end{cases}\n",
    "\\end{align}\n",
    "`````\n",
    "````{toggle}\n",
    "```{prf:proof}   \n",
    "FONC for subgradients $\\vvec{0}\\in \\frac{\\partial }{\\partial \\beta_k}RSS_{L_1}$ yields the solutions to the coordinate-wise minimization problems.    \n",
    "\\begin{align}\n",
    "\\nabla RSS(\\beta) &= 2X^\\top(X\\beta-\\vvec{y})\\\\\n",
    "\\frac{\\partial}{\\partial \\beta_k} RSS(\\beta) &= 2X_{\\cdot k}^\\top(X\\beta-\\vvec{y})\n",
    "\\end{align}\n",
    "\n",
    "\\begin{align}\n",
    "\\frac{\\partial}{\\partial \\beta_k} RSS_{L1}(\\beta) = 2X_{\\cdot k}^\\top(X\\beta-\\vvec{y}) + \\lambda\\frac{\\partial\\lvert\\beta\\rvert}{\\partial \\beta_k}\n",
    "\\end{align}\n",
    "We compute the stationary points and set $\\frac{\\partial}{\\partial \\beta_k} RSS_{L1}(\\beta)=0$:\n",
    "\\begin{align}\n",
    "&& 2X_{\\cdot k}^\\top(X\\beta-\\vvec{y}) + \\lambda\\frac{\\partial\\lvert\\beta\\rvert}{\\partial \\beta_k} = 0\\\\\n",
    "&\\Leftrightarrow\\quad & 2X_{\\cdot k}^\\top X\\beta - 2X_{\\cdot k}^\\top\\vvec{y} + \\lambda\\frac{\\partial\\lvert\\beta\\rvert}{\\partial \\beta_k} = 0\\\\\n",
    "&\\Leftrightarrow & 2X_{\\cdot k}^\\top X\\beta = 2X_{\\cdot k}^\\top\\vvec{y} - \\lambda\\frac{\\partial\\lvert\\beta\\rvert}{\\partial \\beta_k}\\\\\n",
    "&\\Leftrightarrow & X_{\\cdot k}^\\top X\\beta = X_{\\cdot k}^\\top\\vvec{y} - \\frac \\lambda 2\\frac{\\partial\\lvert\\beta\\rvert}{\\partial \\beta_k}\\\\\n",
    "&\\Leftrightarrow & X_{\\cdot k}^\\top \\sum_{l} X_{\\cdot l}\\beta_l = X_{\\cdot k}^\\top\\vvec{y} - \\frac \\lambda 2\\frac{\\partial\\lvert\\beta\\rvert}{\\partial \\beta_k}\\\\\n",
    "&\\Leftrightarrow & X_{\\cdot k}^\\top X_{\\cdot k}\\beta_k = - X_{\\cdot k}^\\top \\sum_{l\\neq k} X_{\\cdot l}\\beta_l + X_{\\cdot k}^\\top\\vvec{y} - \\frac \\lambda 2\\frac{\\partial\\lvert\\beta\\rvert}{\\partial \\beta_k}\\\\\n",
    "&\\Leftrightarrow & \\beta_k = \\frac{1}{\\lVert X_{\\cdot k}\\rVert^2}\\left(X_{\\cdot k}^\\top\\left(\\vvec{y} -  \\sum_{l\\neq k} X_{\\cdot l}\\beta_l \\right) - \\frac \\lambda 2\\frac{\\partial\\lvert\\beta\\rvert}{\\partial \\beta_k}\\right)\\\\\n",
    "&\\Leftrightarrow & \\beta_k = \\frac{1}{\\lVert X_{\\cdot k}\\rVert^2}\\left(c_k - \\frac \\lambda 2\\frac{\\partial\\lvert\\beta\\rvert}{\\partial \\beta_k}\\right)\\\\\n",
    "\\end{align}\n",
    "We have now a characterization of the minimizers of $\\beta_k$ in dependence of the partial derivative of the $L_1$ norm. The term $c_k$ does not depend on the coordinate that we want to optimize, hence we can consider this term as a constant. The partial derivative depends on three cases: $\\beta_k>0, \\beta_k<0$ and $\\beta_k=0$. We have a look at these cases now.\n",
    "\n",
    "_case 1: $\\beta_k>0$_    \n",
    "If $\\beta_k>0$, then the partial derivative is equal to $\\frac{\\partial\\lvert\\beta\\rvert}{\\partial \\beta_k}=1$. That is, we have:\n",
    "\\begin{align}\n",
    "&\\Leftrightarrow& 0<\\beta_k = \\frac{1}{\\lVert X_{\\cdot k}\\rVert^2}\\left(c_k - \\frac \\lambda 2\\cdot 1\\right)\\\\\n",
    "&\\Leftrightarrow& 0<c_k - \\frac \\lambda 2\\\\\n",
    "&\\Leftrightarrow& \\frac \\lambda 2 < c_k \n",
    "\\end{align}\n",
    "Therewith we obtain the result that $\\beta_k = \\frac{1}{\\lVert X_{\\cdot k}\\rVert^2}\\left(c_k - \\frac \\lambda 2\\right)$ if $c_k>\\frac \\lambda 2$.\n",
    "```\n",
    "````\n",
    "Given these coordinate-wise minimizers for the Lasso objective, we can formulate the Lasso algorithm as follows."
   ]
  },
  {
   "cell_type": "markdown",
   "id": "9863a921",
   "metadata": {},
   "source": [
    "\n",
    "```{prf:algorithm} Lasso\n",
    "\n",
    "**Input**: $X,y,\\lambda$\n",
    "1. $\\bm\\beta\\gets$ `Initialize`($p$)  \n",
    "2. **while** not converged\n",
    "    1. **for** $k\\in\\{1,\\ldots, p\\}$\n",
    "    2. $c_k\\gets X_{\\cdot k}^\\top (\\vvec{y}- \\sum_{i\\neq k} X_{\\cdot i}\\beta_i)$\n",
    "    3. $\\beta_k\\gets \\begin{cases}\n",
    "        \\frac{1}{\\lVert X_{\\cdot k}\\rVert^2}(c_k -\\frac\\lambda 2) & \\text{if } c_k>\\frac \\lambda 2\\\\\n",
    "        \\frac{1}{\\lVert X_{\\cdot k}\\rVert^2}(c_k +\\frac\\lambda 2) & \\text{if } c_k<-\\frac \\lambda 2\\\\\n",
    "        0 & \\text{if } -\\frac\\lambda 2\\leq c_k\\leq \\frac\\lambda 2\\end{cases}$\n",
    "3. **return** $\\bm\\beta$ \n",
    "```\n",
    "We can already see from the update rules that Lasso is more likely than Ridge Regression to perform feature selection, and to set some of the coordinates of $\\bm\\beta$ to zero. If a coordinate $\\beta_k$ is in absolute values no larger than the regularization weight $\\lambda$, then the coordinate is set to zero. Hence, the very small values (in absolute terms) observed from Ridge Regression can't happen for Lasso. The values of the Lasso regression vector $\\bm\\beta$ are either zero or at least as large as $\\lamba$."
   ]
  },
  {
   "cell_type": "markdown",
   "id": "a7431fe5",
   "metadata": {},
   "source": [
    "## Example\n",
    "We use again the data from {prf:ref}`example_reg_p_larger_n`, but now we apply Lasso with varying regularization weights."
   ]
  },
  {
   "cell_type": "code",
   "execution_count": 1,
   "id": "cbc616b9",
   "metadata": {},
   "outputs": [],
   "source": [
    "import numpy as np\n",
    "\n",
    "D = np.array([5,3,1])\n",
    "y = np.array([2,5,3])"
   ]
  },
  {
   "cell_type": "markdown",
   "id": "b4e6888b",
   "metadata": {},
   "source": [
    "We implement the Lasso method for a given design matrix $X$, target vector $\\vvec{y}$, regularization weight $\\lambda$ and a fixed number of coordinate descent steps $t_{max}$.  "
   ]
  },
  {
   "cell_type": "code",
   "execution_count": 2,
   "id": "d2644ea3",
   "metadata": {},
   "outputs": [],
   "source": [
    "def β_lasso(X,y,λ, t_max=1000):\n",
    "    p=X.shape[1]\n",
    "    β = np.random.rand(p)\n",
    "    for t in range(t_max):\n",
    "        for k in range(p):\n",
    "            c_k = X[:,k].T@(y-X@β +X[:,k]*β[k])\n",
    "            β[k] = np.sign(c_k)*np.maximum((np.abs(c_k)-λ/2),0)\n",
    "            β[k] = β[k]/np.linalg.norm(X[:,k])**2\n",
    "    return β"
   ]
  },
  {
   "cell_type": "markdown",
   "id": "fc18f049",
   "metadata": {},
   "source": [
    "Now, we compute the Lasso regression functions for a centered target vector (as discussed in the previous section) and with varying regularization weights. "
   ]
  },
  {
   "cell_type": "code",
   "execution_count": 3,
   "id": "413709f3",
   "metadata": {},
   "outputs": [
    {
     "data": {
      "image/png": "[encoded data removed]",
      "text/plain": [
       "<Figure size 720x504 with 1 Axes>"
      ]
     },
     "metadata": {
      "filenames": {
       "image/png": "/Users/shess/dmml/_build/jupyter_execute/regression_lasso_8_0.png"
      },
      "needs_background": "light"
     },
     "output_type": "display_data"
    }
   ],
   "source": [
    "import matplotlib.pyplot as plt\n",
    "def ϕ(x):\n",
    "    return np.row_stack((x, x**2, x**3)) #exclude the bias term from the design matrix\n",
    "X=ϕ(D).T\n",
    "\n",
    "b=np.mean(y)\n",
    "y_centered = y- b\n",
    "\n",
    "plt.figure(figsize=(10, 7))\n",
    "x = np.linspace(0, 6, 100)\n",
    "for λ in [0.001,1,10, 100, 1000]:\n",
    "    β = β_lasso(X, y_centered, λ, t_max=3000)\n",
    "    f_x = ϕ(x).T@β + b\n",
    "    plt.plot(x, f_x, label=\"f_\"+str(λ))\n",
    "plt.scatter(D, y, edgecolor='b', s=50)\n",
    "plt.xlabel(\"x\")\n",
    "plt.ylabel(\"y\")\n",
    "plt.ylim((-5, 15))\n",
    "plt.axhline(0, linewidth=0.5, linestyle='--', color='gray') # horizontal lines\n",
    "plt.axvline(0, linewidth=0.5, linestyle='--', color='gray') # vertical lines\n",
    "plt.legend(loc=\"best\")\n",
    "plt.show()"
   ]
  },
  {
   "cell_type": "markdown",
   "id": "db3286be",
   "metadata": {},
   "source": [
    "If we compare these plots to the ones of Ridge Regression, then we observe that the regularization weight of Lasso has a bigger influence on the regression functions. For $\\lambda\\geq 10$, we obtain very flat approximations, whose graph does not decrease so rapidly for $x\\rightarrow \\infty$ as for  $\\lambda\\leq 1$. This effect is supported by the regression vector values, indicated below."
   ]
  },
  {
   "cell_type": "code",
   "execution_count": 4,
   "id": "e3a4b3c9",
   "metadata": {},
   "outputs": [
    {
     "name": "stdout",
     "output_type": "stream",
     "text": [
      "0.001 \t [-0.6118  0.8189 -0.1497]\n",
      "1 \t [-0.      0.4504 -0.1002]\n",
      "10 \t [ 0.      0.0334 -0.014 ]\n",
      "100 \t [ 0.     -0.     -0.0044]\n",
      "1000 \t [-0. -0. -0.]\n"
     ]
    }
   ],
   "source": [
    "for λ in [0.001,1,10, 100, 1000]:\n",
    "    β = β_lasso(X, y_centered, λ)\n",
    "    print(λ,\"\\t\",np.round(β,4))"
   ]
  },
  {
   "cell_type": "markdown",
   "id": "a93e43eb",
   "metadata": {},
   "source": [
    "Already for $\\lambda=1$ the first feature of the design matrix is deemed irrelevant for the Lasso regression task. For $\\lambda=100$ only one of the three features (the bias term is here excluded) are still used and for $\\lambda=1000$ we obtain a constant regression function. "
   ]
  },
  {
   "cell_type": "code",
   "execution_count": null,
   "id": "3b208ba3",
   "metadata": {},
   "outputs": [],
   "source": []
  }
 ],
 "metadata": {
  "kernelspec": {
   "display_name": "Python 3 (ipykernel)",
   "language": "python",
   "name": "python3"
  },
  "language_info": {
   "codemirror_mode": {
    "name": "ipython",
    "version": 3
   },
   "file_extension": ".py",
   "mimetype": "text/x-python",
   "name": "python",
   "nbconvert_exporter": "python",
   "pygments_lexer": "ipython3",
   "version": "3.9.13"
  }
 },
 "nbformat": 4,
 "nbformat_minor": 5
}