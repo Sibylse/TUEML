{
 "cells": [
  {
   "cell_type": "markdown",
   "id": "6a6a43b0",
   "metadata": {},
   "source": [
    "# L1 vs L2 Regularization\n",
    "Ok, but what is now better, $L_1$- or $L_2$-norm regularization? We will make an illustration of the regression solutions when we penalize with $L_1$- and $L_2$-norm. To make that illustration, using the constrained objective formulation is more suitable than the penalized one. As discussed in the **Sparse Regression** section, we can transform the penalized objective into a constrained one and vice versa.  \n",
    "\n",
    "That is, for every $\\lambda>0$ there exists a radius $s>0$ and vice versa, such that the following optimization problems are equivalent: \n",
    "\\begin{align}\n",
    "        \\min &\\lVert \\vvec{y}-X\\bm{\\beta}\\rVert^2 + \\lambda \\lVert\\bm{\\beta}\\rVert^2 & \\text{s.t. }\\bm{\\beta}\\in\\mathbb{R}^p  \\\\\n",
    "        \\min &\\lVert \\vvec{y}-X\\bm{\\beta}\\rVert^2 & \\text{s.t. } \\lVert\\bm{\\beta}\\rVert^2\\leq s^2,\\bm{\\beta}\\in\\mathbb{R}^p  \\\\\n",
    "\\end{align}\n",
    "\n",
    "Similarly, for every $\\lambda>0$ there exists a radius $s>0$ and vice versa, such that the following optimization problems are equivalent: \n",
    "\\begin{align}\n",
    "        \\min &\\lVert \\vvec{y}-X\\bm{\\beta}\\rVert^2 + \\lambda \\lvert\\bm{\\beta}\\rvert & \\text{s.t. }\\bm{\\beta}\\in\\mathbb{R}^p  \\\\\n",
    "        \\min &\\lVert \\vvec{y}-X\\bm{\\beta}\\rVert^2 & \\text{s.t. } \\lvert\\bm{\\beta}\\rvert\\leq s,\\bm{\\beta}\\in\\mathbb{R}^p  \\\\\n",
    "\\end{align}"
   ]
  },
  {
   "cell_type": "code",
   "execution_count": 1,
   "id": "ffb816d2",
   "metadata": {},
   "outputs": [],
   "source": [
    "import numpy as np\n",
    "import matplotlib.pyplot as plt\n",
    "\n",
    "X = np.random.rand(6,2) #random design matrix\n",
    "y = np.random.rand(6,1)+np.random.uniform(0,2) #random targets, biased towards positive values\n",
    "β_opt = np.linalg.inv(X.T@X)@X.T@y\n",
    "delta = 0.025\n",
    "cx = np.arange(-1.5, 4.0, delta)\n",
    "cy = np.arange(-1.5, 4.0, delta)\n",
    "xx, yy = np.meshgrid(cx, cy)\n",
    "B = np.array([xx,yy]).reshape(2,cx.shape[0]*cy.shape[0]) #matrix of beta coordinates\n",
    "Z = 0.5*np.sum((X@B - y)**2,0) #compute rss for each beta coordinate\n",
    "Z = Z.reshape(cy.shape[0],cx.shape[0])"
   ]
  },
  {
   "cell_type": "code",
   "execution_count": 2,
   "id": "c87c1123",
   "metadata": {},
   "outputs": [],
   "source": [
    "import matplotlib.patches as patches\n",
    "s=1\n",
    "levels = np.array([0.1,1,2.5,5,10,15,30,60]) #levels of the contour plot"
   ]
  },
  {
   "cell_type": "code",
   "execution_count": 3,
   "id": "8cada09c",
   "metadata": {},
   "outputs": [
    {
     "data": {
      "image/png": "[encoded data removed]",
      "text/plain": [
       "<Figure size 432x288 with 1 Axes>"
      ]
     },
     "metadata": {
      "filenames": {
       "image/png": "/Users/shess/TUEML/_build/jupyter_execute/regression_L1vsL2_3_0.png"
      },
      "needs_background": "light"
     },
     "output_type": "display_data"
    }
   ],
   "source": [
    "fig, ax = plt.subplots()\n",
    "CS = ax.contourf(xx, yy, Z,levels=levels)\n",
    "ax.plot(β_opt[0], β_opt[1], \"wo\")\n",
    "ax.annotate(\"β*\", (β_opt[0]+0.2, β_opt[1]+0.2), fontsize=12, color=\"white\")\n",
    "\n",
    "circ = patches.Circle((0, 0), s, alpha=0.8, fc='yellow')\n",
    "ax.add_patch(circ)\n",
    "ax.set_title('Contour plot of random regression objective')\n",
    "plt.axis('scaled')\n",
    "plt.show()"
   ]
  },
  {
   "cell_type": "code",
   "execution_count": 4,
   "id": "eaa356b6",
   "metadata": {},
   "outputs": [
    {
     "data": {
      "image/png": "[encoded data removed]",
      "text/plain": [
       "<Figure size 432x288 with 1 Axes>"
      ]
     },
     "metadata": {
      "filenames": {
       "image/png": "/Users/shess/TUEML/_build/jupyter_execute/regression_L1vsL2_4_0.png"
      },
      "needs_background": "light"
     },
     "output_type": "display_data"
    }
   ],
   "source": [
    "fig, ax = plt.subplots()\n",
    "CS = ax.contourf(xx, yy, Z, levels=levels)\n",
    "ax.plot(β_opt[0], β_opt[1], \"wo\")\n",
    "ax.annotate(\"β*\", (β_opt[0]+0.1, β_opt[1]+0.1), fontsize=12, color=\"white\")\n",
    "\n",
    "circ = patches.Polygon(np.array([[s,0],[0,s],[-s,0],[0,-s]]), closed=True, alpha=0.8, fc='yellow')\n",
    "ax.add_patch(circ)\n",
    "ax.set_title('Contour plot of random regression objective')\n",
    "plt.axis('scaled')\n",
    "plt.show()"
   ]
  },
  {
   "cell_type": "markdown",
   "id": "9b7e2721",
   "metadata": {},
   "source": [
    "In summary, we considered the ridge regression objective\n",
    "\\begin{align}\n",
    "        \\min_{\\bm\\beta\\in\\mathbb{R}^p} RSS_{L_2}(\\bm{\\beta}) = \\lVert \\vvec{y}-X\\bm{\\beta}\\rVert^2 + \\lambda\\lVert\\bm{\\beta}\\rVert^2\n",
    "\\end{align}\n",
    "and the Lasso\n",
    "\\begin{align}\n",
    "    \\min_{\\bm\\beta\\in\\mathbb{R}^p} RSS_{L_1}(\\bm{\\beta}) = \\lVert \\vvec{y}-X\\bm{\\beta}\\rVert^2 + \\lambda\\lvert\\bm{\\beta}\\rvert\n",
    "\\end{align}\n",
    "The solution of Ridge Regression is computable very fast, analyically. The Ridge Regression minimizer is uniquely defined, but usually not sparse.\n",
    "Lasso is optimized with coordinate descent, which is a theoretically well-founded optimization procedure. Lasso regression is more likely to return sparse regression vectors $\\bm\\beta$.\n"
   ]
  },
  {
   "cell_type": "code",
   "execution_count": null,
   "id": "c75b7f6c",
   "metadata": {},
   "outputs": [],
   "source": []
  }
 ],
 "metadata": {
  "kernelspec": {
   "display_name": "Python 3 (ipykernel)",
   "language": "python",
   "name": "python3"
  },
  "language_info": {
   "codemirror_mode": {
    "name": "ipython",
    "version": 3
   },
   "file_extension": ".py",
   "mimetype": "text/x-python",
   "name": "python",
   "nbconvert_exporter": "python",
   "pygments_lexer": "ipython3",
   "version": "3.9.13"
  }
 },
 "nbformat": 4,
 "nbformat_minor": 5
}