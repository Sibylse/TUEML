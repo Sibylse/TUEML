{
 "cells": [
  {
   "cell_type": "markdown",
   "id": "06cc4213",
   "metadata": {},
   "source": [
    "## Training Neural Networks: Backpropagation and SGD\n",
    "\n",
    "Neural networks are trained by minimizing a loss function, often via **stochastic gradient descent (SGD)**.\n",
    "\n",
    "### SGD\n",
    "\n",
    "### Backpropagation\n",
    "\n",
    "The **backpropagation algorithm** efficiently computes gradients of the loss with respect to all parameters using the chain rule of calculus. For a network with parameters $ \\theta $, inputs $ \\mathbf{x} $, and loss $ \\mathcal{L} $, we compute:\n",
    "\n",
    "$$\n",
    "\\frac{\\partial \\mathcal{L}}{\\partial \\theta}\n",
    "$$\n",
    "\n",
    "by propagating derivatives from the output layer back to earlier layers.\n",
    "\n",
    "\n"
   ]
  },
  {
   "cell_type": "code",
   "execution_count": null,
   "id": "b70ceff2",
   "metadata": {},
   "outputs": [],
   "source": [
    "# make plot of loss function for logistic regression and then plot sgd trajectory based on various step sizes.\n",
    "# best use pytorch and autograd otherwise it's a computational nightmare"
   ]
  }
 ],
 "metadata": {
  "kernelspec": {
   "display_name": "Python 3 (ipykernel)",
   "language": "python",
   "name": "python3"
  },
  "language_info": {
   "codemirror_mode": {
    "name": "ipython",
    "version": 3
   },
   "file_extension": ".py",
   "mimetype": "text/x-python",
   "name": "python",
   "nbconvert_exporter": "python",
   "pygments_lexer": "ipython3",
   "version": "3.9.13"
  }
 },
 "nbformat": 4,
 "nbformat_minor": 5
}
